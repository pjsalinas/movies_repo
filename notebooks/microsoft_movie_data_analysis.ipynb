{
 "cells": [
  {
   "cell_type": "markdown",
   "id": "eca53cd7",
   "metadata": {},
   "source": [
    "# Microsoft Movie Analysis"
   ]
  },
  {
   "cell_type": "markdown",
   "id": "dd96b0f0",
   "metadata": {},
   "source": [
    "![Movie Teather](https://unsplash.com/photos/TFRezw7pQwI)"
   ]
  },
  {
   "cell_type": "markdown",
   "id": "e0ad1dc4",
   "metadata": {},
   "source": [
    "## Overview"
   ]
  },
  {
   "cell_type": "markdown",
   "id": "bdb236dd",
   "metadata": {},
   "source": [
    "This project analyzed the movie industry on behalf of Microsoft Inc., which is considering investing in the movie business. Due to the numerous factors that influence the success of a movie across various platforms, and considering Microsoft's time constraints and pressure, we focused on analyzing a limited number of key parameters to gain insights and generate actionable recommendations for the Microsoft board of directors."
   ]
  },
  {
   "cell_type": "markdown",
   "id": "f1526f26",
   "metadata": {},
   "source": [
    "## Business Problem"
   ]
  },
  {
   "cell_type": "markdown",
   "id": "9c493bab",
   "metadata": {},
   "source": [
    "Microsoft is exploring the possibility of entering the movie industry using its surplus cash. In 2019, the movie business was valued at <span>&#36;</span>42.2 billion, while the global film industry, including box office and home entertainment revenue, was worth <span>&#36;</span>136 billion in 2018. To assess the viability of such an investment, Microsoft is planning to conduct a thorough analysis of the movie business, focusing on aspects such as profitability and budget. Once the Microsoft board approves the investment, the company will move forward with hiring directors, writers, and actors."
   ]
  },
  {
   "cell_type": "markdown",
   "id": "becde55c",
   "metadata": {
    "heading_collapsed": true
   },
   "source": [
    "## Data Understanding"
   ]
  },
  {
   "cell_type": "markdown",
   "id": "8745c5a1",
   "metadata": {
    "hidden": true
   },
   "source": [
    "The Microsoft Marketing team provided us with several datasets pertaining to the movie industry. After careful consideration, we selected the two most relevant and reliable datasets. Using these datasets, we were able to evaluate and analyze various types of data such as dates, profits, budgets, and other relevant factors."
   ]
  },
  {
   "cell_type": "code",
   "execution_count": 15,
   "id": "a536460d",
   "metadata": {
    "hidden": true
   },
   "outputs": [],
   "source": [
    "# Import Libraries\n",
    "\n",
    "import pandas as pd\n",
    "import seaborn as sns\n",
    "import sqlite3\n",
    "import matplotlib.pyplot as plt\n",
    "\n",
    "import warnings\n",
    "# Ignore all warning messages\n",
    "warnings.filterwarnings('ignore')\n",
    "\n",
    "%matplotlib inline"
   ]
  },
  {
   "cell_type": "code",
   "execution_count": 16,
   "id": "9240a839",
   "metadata": {
    "hidden": true
   },
   "outputs": [],
   "source": [
    "# Read Budget and Profit dataset\n",
    "tn_budget_df = pd.read_csv(\"../data/tn.movie_budgets.csv.gz\")"
   ]
  },
  {
   "cell_type": "markdown",
   "id": "b1c76e0b",
   "metadata": {
    "heading_collapsed": true
   },
   "source": [
    "## Data Cleaning"
   ]
  },
  {
   "cell_type": "code",
   "execution_count": 17,
   "id": "654ee1f3",
   "metadata": {
    "hidden": true,
    "scrolled": true
   },
   "outputs": [
    {
     "name": "stdout",
     "output_type": "stream",
     "text": [
      "<class 'pandas.core.frame.DataFrame'>\n",
      "RangeIndex: 5782 entries, 0 to 5781\n",
      "Data columns (total 6 columns):\n",
      " #   Column             Non-Null Count  Dtype \n",
      "---  ------             --------------  ----- \n",
      " 0   id                 5782 non-null   int64 \n",
      " 1   release_date       5782 non-null   object\n",
      " 2   movie              5782 non-null   object\n",
      " 3   production_budget  5782 non-null   object\n",
      " 4   domestic_gross     5782 non-null   object\n",
      " 5   worldwide_gross    5782 non-null   object\n",
      "dtypes: int64(1), object(5)\n",
      "memory usage: 271.2+ KB\n"
     ]
    }
   ],
   "source": [
    "tn_budget_df.info()"
   ]
  },
  {
   "cell_type": "code",
   "execution_count": 4,
   "id": "f50bced7",
   "metadata": {
    "hidden": true
   },
   "outputs": [],
   "source": [
    "# There are not null entries in the dataset"
   ]
  },
  {
   "cell_type": "code",
   "execution_count": 18,
   "id": "41fac298",
   "metadata": {
    "hidden": true
   },
   "outputs": [
    {
     "data": {
      "text/html": [
       "<div>\n",
       "<style scoped>\n",
       "    .dataframe tbody tr th:only-of-type {\n",
       "        vertical-align: middle;\n",
       "    }\n",
       "\n",
       "    .dataframe tbody tr th {\n",
       "        vertical-align: top;\n",
       "    }\n",
       "\n",
       "    .dataframe thead th {\n",
       "        text-align: right;\n",
       "    }\n",
       "</style>\n",
       "<table border=\"1\" class=\"dataframe\">\n",
       "  <thead>\n",
       "    <tr style=\"text-align: right;\">\n",
       "      <th></th>\n",
       "      <th>id</th>\n",
       "      <th>release_date</th>\n",
       "      <th>movie</th>\n",
       "      <th>production_budget</th>\n",
       "      <th>domestic_gross</th>\n",
       "      <th>worldwide_gross</th>\n",
       "    </tr>\n",
       "  </thead>\n",
       "  <tbody>\n",
       "    <tr>\n",
       "      <th>0</th>\n",
       "      <td>1</td>\n",
       "      <td>Dec 18, 2009</td>\n",
       "      <td>Avatar</td>\n",
       "      <td>$425,000,000</td>\n",
       "      <td>$760,507,625</td>\n",
       "      <td>$2,776,345,279</td>\n",
       "    </tr>\n",
       "    <tr>\n",
       "      <th>1</th>\n",
       "      <td>2</td>\n",
       "      <td>May 20, 2011</td>\n",
       "      <td>Pirates of the Caribbean: On Stranger Tides</td>\n",
       "      <td>$410,600,000</td>\n",
       "      <td>$241,063,875</td>\n",
       "      <td>$1,045,663,875</td>\n",
       "    </tr>\n",
       "    <tr>\n",
       "      <th>2</th>\n",
       "      <td>3</td>\n",
       "      <td>Jun 7, 2019</td>\n",
       "      <td>Dark Phoenix</td>\n",
       "      <td>$350,000,000</td>\n",
       "      <td>$42,762,350</td>\n",
       "      <td>$149,762,350</td>\n",
       "    </tr>\n",
       "    <tr>\n",
       "      <th>3</th>\n",
       "      <td>4</td>\n",
       "      <td>May 1, 2015</td>\n",
       "      <td>Avengers: Age of Ultron</td>\n",
       "      <td>$330,600,000</td>\n",
       "      <td>$459,005,868</td>\n",
       "      <td>$1,403,013,963</td>\n",
       "    </tr>\n",
       "    <tr>\n",
       "      <th>4</th>\n",
       "      <td>5</td>\n",
       "      <td>Dec 15, 2017</td>\n",
       "      <td>Star Wars Ep. VIII: The Last Jedi</td>\n",
       "      <td>$317,000,000</td>\n",
       "      <td>$620,181,382</td>\n",
       "      <td>$1,316,721,747</td>\n",
       "    </tr>\n",
       "  </tbody>\n",
       "</table>\n",
       "</div>"
      ],
      "text/plain": [
       "   id  release_date                                        movie  \\\n",
       "0   1  Dec 18, 2009                                       Avatar   \n",
       "1   2  May 20, 2011  Pirates of the Caribbean: On Stranger Tides   \n",
       "2   3   Jun 7, 2019                                 Dark Phoenix   \n",
       "3   4   May 1, 2015                      Avengers: Age of Ultron   \n",
       "4   5  Dec 15, 2017            Star Wars Ep. VIII: The Last Jedi   \n",
       "\n",
       "  production_budget domestic_gross worldwide_gross  \n",
       "0      $425,000,000   $760,507,625  $2,776,345,279  \n",
       "1      $410,600,000   $241,063,875  $1,045,663,875  \n",
       "2      $350,000,000    $42,762,350    $149,762,350  \n",
       "3      $330,600,000   $459,005,868  $1,403,013,963  \n",
       "4      $317,000,000   $620,181,382  $1,316,721,747  "
      ]
     },
     "execution_count": 18,
     "metadata": {},
     "output_type": "execute_result"
    }
   ],
   "source": [
    "tn_budget_df.head()"
   ]
  },
  {
   "cell_type": "code",
   "execution_count": 19,
   "id": "663f3a75",
   "metadata": {
    "hidden": true
   },
   "outputs": [],
   "source": [
    "# Add a column year to the dataset\n",
    "tn_budget_df['year'] = tn_budget_df['release_date'].apply(lambda x: x[-4:]).astype('int')"
   ]
  },
  {
   "cell_type": "code",
   "execution_count": 20,
   "id": "6e74a5e6",
   "metadata": {
    "hidden": true,
    "scrolled": true
   },
   "outputs": [],
   "source": [
    "# Change the type and extract the commas ',' from the \n",
    "# `production_budget`, `domestic_gross`, and `worldwide_gross` values.\n",
    "tn_budget_df['worldwide_gross'] = tn_budget_df['worldwide_gross'].apply(lambda x: x[1:]).str.replace(',', '').astype('float')\n",
    "tn_budget_df['domestic_gross'] = tn_budget_df['domestic_gross'].apply(lambda x: x[1:]).str.replace(',', '').astype('float')\n",
    "tn_budget_df['production_budget'] = tn_budget_df['production_budget'].apply(lambda x: x[1:]).str.replace(',', '').astype('float')"
   ]
  },
  {
   "cell_type": "code",
   "execution_count": 7,
   "id": "0520aad2",
   "metadata": {
    "hidden": true
   },
   "outputs": [
    {
     "data": {
      "text/html": [
       "<div>\n",
       "<style scoped>\n",
       "    .dataframe tbody tr th:only-of-type {\n",
       "        vertical-align: middle;\n",
       "    }\n",
       "\n",
       "    .dataframe tbody tr th {\n",
       "        vertical-align: top;\n",
       "    }\n",
       "\n",
       "    .dataframe thead th {\n",
       "        text-align: right;\n",
       "    }\n",
       "</style>\n",
       "<table border=\"1\" class=\"dataframe\">\n",
       "  <thead>\n",
       "    <tr style=\"text-align: right;\">\n",
       "      <th></th>\n",
       "      <th>id</th>\n",
       "      <th>release_date</th>\n",
       "      <th>movie</th>\n",
       "      <th>production_budget</th>\n",
       "      <th>domestic_gross</th>\n",
       "      <th>worldwide_gross</th>\n",
       "      <th>year</th>\n",
       "    </tr>\n",
       "  </thead>\n",
       "  <tbody>\n",
       "    <tr>\n",
       "      <th>0</th>\n",
       "      <td>1</td>\n",
       "      <td>Dec 18, 2009</td>\n",
       "      <td>Avatar</td>\n",
       "      <td>425000000.0</td>\n",
       "      <td>760507625.0</td>\n",
       "      <td>2.776345e+09</td>\n",
       "      <td>2009</td>\n",
       "    </tr>\n",
       "    <tr>\n",
       "      <th>1</th>\n",
       "      <td>2</td>\n",
       "      <td>May 20, 2011</td>\n",
       "      <td>Pirates of the Caribbean: On Stranger Tides</td>\n",
       "      <td>410600000.0</td>\n",
       "      <td>241063875.0</td>\n",
       "      <td>1.045664e+09</td>\n",
       "      <td>2011</td>\n",
       "    </tr>\n",
       "    <tr>\n",
       "      <th>2</th>\n",
       "      <td>3</td>\n",
       "      <td>Jun 7, 2019</td>\n",
       "      <td>Dark Phoenix</td>\n",
       "      <td>350000000.0</td>\n",
       "      <td>42762350.0</td>\n",
       "      <td>1.497624e+08</td>\n",
       "      <td>2019</td>\n",
       "    </tr>\n",
       "    <tr>\n",
       "      <th>3</th>\n",
       "      <td>4</td>\n",
       "      <td>May 1, 2015</td>\n",
       "      <td>Avengers: Age of Ultron</td>\n",
       "      <td>330600000.0</td>\n",
       "      <td>459005868.0</td>\n",
       "      <td>1.403014e+09</td>\n",
       "      <td>2015</td>\n",
       "    </tr>\n",
       "    <tr>\n",
       "      <th>4</th>\n",
       "      <td>5</td>\n",
       "      <td>Dec 15, 2017</td>\n",
       "      <td>Star Wars Ep. VIII: The Last Jedi</td>\n",
       "      <td>317000000.0</td>\n",
       "      <td>620181382.0</td>\n",
       "      <td>1.316722e+09</td>\n",
       "      <td>2017</td>\n",
       "    </tr>\n",
       "  </tbody>\n",
       "</table>\n",
       "</div>"
      ],
      "text/plain": [
       "   id  release_date                                        movie  \\\n",
       "0   1  Dec 18, 2009                                       Avatar   \n",
       "1   2  May 20, 2011  Pirates of the Caribbean: On Stranger Tides   \n",
       "2   3   Jun 7, 2019                                 Dark Phoenix   \n",
       "3   4   May 1, 2015                      Avengers: Age of Ultron   \n",
       "4   5  Dec 15, 2017            Star Wars Ep. VIII: The Last Jedi   \n",
       "\n",
       "   production_budget  domestic_gross  worldwide_gross  year  \n",
       "0        425000000.0     760507625.0     2.776345e+09  2009  \n",
       "1        410600000.0     241063875.0     1.045664e+09  2011  \n",
       "2        350000000.0      42762350.0     1.497624e+08  2019  \n",
       "3        330600000.0     459005868.0     1.403014e+09  2015  \n",
       "4        317000000.0     620181382.0     1.316722e+09  2017  "
      ]
     },
     "execution_count": 7,
     "metadata": {},
     "output_type": "execute_result"
    }
   ],
   "source": [
    "tn_budget_df.head()"
   ]
  },
  {
   "cell_type": "code",
   "execution_count": 21,
   "id": "f039fcd6",
   "metadata": {
    "hidden": true
   },
   "outputs": [],
   "source": [
    "# Elimante `all` domestic_gross entries that are Zero (0)\n",
    "tn_budget_df = tn_budget_df[tn_budget_df['domestic_gross'] != 0]"
   ]
  },
  {
   "cell_type": "code",
   "execution_count": 22,
   "id": "cd212e15",
   "metadata": {
    "hidden": true
   },
   "outputs": [
    {
     "name": "stdout",
     "output_type": "stream",
     "text": [
      "<class 'pandas.core.frame.DataFrame'>\n",
      "Int64Index: 5234 entries, 0 to 5781\n",
      "Data columns (total 7 columns):\n",
      " #   Column             Non-Null Count  Dtype  \n",
      "---  ------             --------------  -----  \n",
      " 0   id                 5234 non-null   int64  \n",
      " 1   release_date       5234 non-null   object \n",
      " 2   movie              5234 non-null   object \n",
      " 3   production_budget  5234 non-null   float64\n",
      " 4   domestic_gross     5234 non-null   float64\n",
      " 5   worldwide_gross    5234 non-null   float64\n",
      " 6   year               5234 non-null   int64  \n",
      "dtypes: float64(3), int64(2), object(2)\n",
      "memory usage: 327.1+ KB\n"
     ]
    }
   ],
   "source": [
    "tn_budget_df.info()"
   ]
  },
  {
   "cell_type": "code",
   "execution_count": 23,
   "id": "d9be9589",
   "metadata": {
    "hidden": true
   },
   "outputs": [],
   "source": [
    "# There were (5782 - 5234) = 548 movies remove from the dataset because `domestic_gross` was Zero (0)"
   ]
  },
  {
   "cell_type": "code",
   "execution_count": 24,
   "id": "b0449e12",
   "metadata": {
    "hidden": true
   },
   "outputs": [
    {
     "data": {
      "text/html": [
       "<div>\n",
       "<style scoped>\n",
       "    .dataframe tbody tr th:only-of-type {\n",
       "        vertical-align: middle;\n",
       "    }\n",
       "\n",
       "    .dataframe tbody tr th {\n",
       "        vertical-align: top;\n",
       "    }\n",
       "\n",
       "    .dataframe thead th {\n",
       "        text-align: right;\n",
       "    }\n",
       "</style>\n",
       "<table border=\"1\" class=\"dataframe\">\n",
       "  <thead>\n",
       "    <tr style=\"text-align: right;\">\n",
       "      <th></th>\n",
       "      <th>id</th>\n",
       "      <th>release_date</th>\n",
       "      <th>movie</th>\n",
       "      <th>production_budget</th>\n",
       "      <th>domestic_gross</th>\n",
       "      <th>worldwide_gross</th>\n",
       "      <th>year</th>\n",
       "    </tr>\n",
       "  </thead>\n",
       "  <tbody>\n",
       "    <tr>\n",
       "      <th>0</th>\n",
       "      <td>1</td>\n",
       "      <td>Dec 18, 2009</td>\n",
       "      <td>Avatar</td>\n",
       "      <td>425000000.0</td>\n",
       "      <td>760507625.0</td>\n",
       "      <td>2.776345e+09</td>\n",
       "      <td>2009</td>\n",
       "    </tr>\n",
       "    <tr>\n",
       "      <th>1</th>\n",
       "      <td>2</td>\n",
       "      <td>May 20, 2011</td>\n",
       "      <td>Pirates of the Caribbean: On Stranger Tides</td>\n",
       "      <td>410600000.0</td>\n",
       "      <td>241063875.0</td>\n",
       "      <td>1.045664e+09</td>\n",
       "      <td>2011</td>\n",
       "    </tr>\n",
       "    <tr>\n",
       "      <th>2</th>\n",
       "      <td>3</td>\n",
       "      <td>Jun 7, 2019</td>\n",
       "      <td>Dark Phoenix</td>\n",
       "      <td>350000000.0</td>\n",
       "      <td>42762350.0</td>\n",
       "      <td>1.497624e+08</td>\n",
       "      <td>2019</td>\n",
       "    </tr>\n",
       "    <tr>\n",
       "      <th>3</th>\n",
       "      <td>4</td>\n",
       "      <td>May 1, 2015</td>\n",
       "      <td>Avengers: Age of Ultron</td>\n",
       "      <td>330600000.0</td>\n",
       "      <td>459005868.0</td>\n",
       "      <td>1.403014e+09</td>\n",
       "      <td>2015</td>\n",
       "    </tr>\n",
       "    <tr>\n",
       "      <th>4</th>\n",
       "      <td>5</td>\n",
       "      <td>Dec 15, 2017</td>\n",
       "      <td>Star Wars Ep. VIII: The Last Jedi</td>\n",
       "      <td>317000000.0</td>\n",
       "      <td>620181382.0</td>\n",
       "      <td>1.316722e+09</td>\n",
       "      <td>2017</td>\n",
       "    </tr>\n",
       "  </tbody>\n",
       "</table>\n",
       "</div>"
      ],
      "text/plain": [
       "   id  release_date                                        movie  \\\n",
       "0   1  Dec 18, 2009                                       Avatar   \n",
       "1   2  May 20, 2011  Pirates of the Caribbean: On Stranger Tides   \n",
       "2   3   Jun 7, 2019                                 Dark Phoenix   \n",
       "3   4   May 1, 2015                      Avengers: Age of Ultron   \n",
       "4   5  Dec 15, 2017            Star Wars Ep. VIII: The Last Jedi   \n",
       "\n",
       "   production_budget  domestic_gross  worldwide_gross  year  \n",
       "0        425000000.0     760507625.0     2.776345e+09  2009  \n",
       "1        410600000.0     241063875.0     1.045664e+09  2011  \n",
       "2        350000000.0      42762350.0     1.497624e+08  2019  \n",
       "3        330600000.0     459005868.0     1.403014e+09  2015  \n",
       "4        317000000.0     620181382.0     1.316722e+09  2017  "
      ]
     },
     "execution_count": 24,
     "metadata": {},
     "output_type": "execute_result"
    }
   ],
   "source": [
    "tn_budget_df.head()"
   ]
  },
  {
   "cell_type": "code",
   "execution_count": 25,
   "id": "bf67bcb4",
   "metadata": {
    "hidden": true
   },
   "outputs": [],
   "source": [
    "# Add a new column for the `profit`\n",
    "tn_budget_df['profit'] = tn_budget_df['worldwide_gross'] - tn_budget_df['production_budget']"
   ]
  },
  {
   "cell_type": "code",
   "execution_count": 26,
   "id": "35443f9b",
   "metadata": {
    "hidden": true
   },
   "outputs": [
    {
     "data": {
      "text/html": [
       "<div>\n",
       "<style scoped>\n",
       "    .dataframe tbody tr th:only-of-type {\n",
       "        vertical-align: middle;\n",
       "    }\n",
       "\n",
       "    .dataframe tbody tr th {\n",
       "        vertical-align: top;\n",
       "    }\n",
       "\n",
       "    .dataframe thead th {\n",
       "        text-align: right;\n",
       "    }\n",
       "</style>\n",
       "<table border=\"1\" class=\"dataframe\">\n",
       "  <thead>\n",
       "    <tr style=\"text-align: right;\">\n",
       "      <th></th>\n",
       "      <th>id</th>\n",
       "      <th>release_date</th>\n",
       "      <th>movie</th>\n",
       "      <th>production_budget</th>\n",
       "      <th>domestic_gross</th>\n",
       "      <th>worldwide_gross</th>\n",
       "      <th>year</th>\n",
       "      <th>profit</th>\n",
       "    </tr>\n",
       "  </thead>\n",
       "  <tbody>\n",
       "    <tr>\n",
       "      <th>0</th>\n",
       "      <td>1</td>\n",
       "      <td>Dec 18, 2009</td>\n",
       "      <td>Avatar</td>\n",
       "      <td>425000000.0</td>\n",
       "      <td>760507625.0</td>\n",
       "      <td>2.776345e+09</td>\n",
       "      <td>2009</td>\n",
       "      <td>2.351345e+09</td>\n",
       "    </tr>\n",
       "    <tr>\n",
       "      <th>1</th>\n",
       "      <td>2</td>\n",
       "      <td>May 20, 2011</td>\n",
       "      <td>Pirates of the Caribbean: On Stranger Tides</td>\n",
       "      <td>410600000.0</td>\n",
       "      <td>241063875.0</td>\n",
       "      <td>1.045664e+09</td>\n",
       "      <td>2011</td>\n",
       "      <td>6.350639e+08</td>\n",
       "    </tr>\n",
       "    <tr>\n",
       "      <th>2</th>\n",
       "      <td>3</td>\n",
       "      <td>Jun 7, 2019</td>\n",
       "      <td>Dark Phoenix</td>\n",
       "      <td>350000000.0</td>\n",
       "      <td>42762350.0</td>\n",
       "      <td>1.497624e+08</td>\n",
       "      <td>2019</td>\n",
       "      <td>-2.002376e+08</td>\n",
       "    </tr>\n",
       "    <tr>\n",
       "      <th>3</th>\n",
       "      <td>4</td>\n",
       "      <td>May 1, 2015</td>\n",
       "      <td>Avengers: Age of Ultron</td>\n",
       "      <td>330600000.0</td>\n",
       "      <td>459005868.0</td>\n",
       "      <td>1.403014e+09</td>\n",
       "      <td>2015</td>\n",
       "      <td>1.072414e+09</td>\n",
       "    </tr>\n",
       "    <tr>\n",
       "      <th>4</th>\n",
       "      <td>5</td>\n",
       "      <td>Dec 15, 2017</td>\n",
       "      <td>Star Wars Ep. VIII: The Last Jedi</td>\n",
       "      <td>317000000.0</td>\n",
       "      <td>620181382.0</td>\n",
       "      <td>1.316722e+09</td>\n",
       "      <td>2017</td>\n",
       "      <td>9.997217e+08</td>\n",
       "    </tr>\n",
       "  </tbody>\n",
       "</table>\n",
       "</div>"
      ],
      "text/plain": [
       "   id  release_date                                        movie  \\\n",
       "0   1  Dec 18, 2009                                       Avatar   \n",
       "1   2  May 20, 2011  Pirates of the Caribbean: On Stranger Tides   \n",
       "2   3   Jun 7, 2019                                 Dark Phoenix   \n",
       "3   4   May 1, 2015                      Avengers: Age of Ultron   \n",
       "4   5  Dec 15, 2017            Star Wars Ep. VIII: The Last Jedi   \n",
       "\n",
       "   production_budget  domestic_gross  worldwide_gross  year        profit  \n",
       "0        425000000.0     760507625.0     2.776345e+09  2009  2.351345e+09  \n",
       "1        410600000.0     241063875.0     1.045664e+09  2011  6.350639e+08  \n",
       "2        350000000.0      42762350.0     1.497624e+08  2019 -2.002376e+08  \n",
       "3        330600000.0     459005868.0     1.403014e+09  2015  1.072414e+09  \n",
       "4        317000000.0     620181382.0     1.316722e+09  2017  9.997217e+08  "
      ]
     },
     "execution_count": 26,
     "metadata": {},
     "output_type": "execute_result"
    }
   ],
   "source": [
    "tn_budget_df.head()"
   ]
  },
  {
   "cell_type": "code",
   "execution_count": 27,
   "id": "9375a185",
   "metadata": {
    "hidden": true
   },
   "outputs": [],
   "source": [
    "# Add a new column for the `profit_margin`\n",
    "tn_budget_df['profit_margin'] = (tn_budget_df['worldwide_gross'] - tn_budget_df['production_budget']) / tn_budget_df['worldwide_gross']"
   ]
  },
  {
   "cell_type": "code",
   "execution_count": 28,
   "id": "b449165b",
   "metadata": {
    "hidden": true
   },
   "outputs": [
    {
     "name": "stdout",
     "output_type": "stream",
     "text": [
      "<class 'pandas.core.frame.DataFrame'>\n",
      "Int64Index: 5234 entries, 0 to 5781\n",
      "Data columns (total 9 columns):\n",
      " #   Column             Non-Null Count  Dtype  \n",
      "---  ------             --------------  -----  \n",
      " 0   id                 5234 non-null   int64  \n",
      " 1   release_date       5234 non-null   object \n",
      " 2   movie              5234 non-null   object \n",
      " 3   production_budget  5234 non-null   float64\n",
      " 4   domestic_gross     5234 non-null   float64\n",
      " 5   worldwide_gross    5234 non-null   float64\n",
      " 6   year               5234 non-null   int64  \n",
      " 7   profit             5234 non-null   float64\n",
      " 8   profit_margin      5234 non-null   float64\n",
      "dtypes: float64(5), int64(2), object(2)\n",
      "memory usage: 408.9+ KB\n"
     ]
    }
   ],
   "source": [
    "tn_budget_df.info()"
   ]
  },
  {
   "cell_type": "code",
   "execution_count": 31,
   "id": "0a477202",
   "metadata": {
    "hidden": true
   },
   "outputs": [
    {
     "data": {
      "text/html": [
       "<div>\n",
       "<style scoped>\n",
       "    .dataframe tbody tr th:only-of-type {\n",
       "        vertical-align: middle;\n",
       "    }\n",
       "\n",
       "    .dataframe tbody tr th {\n",
       "        vertical-align: top;\n",
       "    }\n",
       "\n",
       "    .dataframe thead th {\n",
       "        text-align: right;\n",
       "    }\n",
       "</style>\n",
       "<table border=\"1\" class=\"dataframe\">\n",
       "  <thead>\n",
       "    <tr style=\"text-align: right;\">\n",
       "      <th></th>\n",
       "      <th>id</th>\n",
       "      <th>release_date</th>\n",
       "      <th>movie</th>\n",
       "      <th>production_budget</th>\n",
       "      <th>domestic_gross</th>\n",
       "      <th>worldwide_gross</th>\n",
       "      <th>year</th>\n",
       "      <th>profit</th>\n",
       "      <th>profit_margin</th>\n",
       "      <th>adjusted_production_budget</th>\n",
       "      <th>adjusted_profit</th>\n",
       "    </tr>\n",
       "  </thead>\n",
       "  <tbody>\n",
       "    <tr>\n",
       "      <th>0</th>\n",
       "      <td>1</td>\n",
       "      <td>Dec 18, 2009</td>\n",
       "      <td>Avatar</td>\n",
       "      <td>425000000.0</td>\n",
       "      <td>760507625.0</td>\n",
       "      <td>2.776345e+09</td>\n",
       "      <td>2009</td>\n",
       "      <td>2.351345e+09</td>\n",
       "      <td>0.846921</td>\n",
       "      <td>618375000.0</td>\n",
       "      <td>3.421207e+09</td>\n",
       "    </tr>\n",
       "    <tr>\n",
       "      <th>1</th>\n",
       "      <td>2</td>\n",
       "      <td>May 20, 2011</td>\n",
       "      <td>Pirates of the Caribbean: On Stranger Tides</td>\n",
       "      <td>410600000.0</td>\n",
       "      <td>241063875.0</td>\n",
       "      <td>1.045664e+09</td>\n",
       "      <td>2011</td>\n",
       "      <td>6.350639e+08</td>\n",
       "      <td>0.607331</td>\n",
       "      <td>568681000.0</td>\n",
       "      <td>8.795635e+08</td>\n",
       "    </tr>\n",
       "    <tr>\n",
       "      <th>2</th>\n",
       "      <td>3</td>\n",
       "      <td>Jun 7, 2019</td>\n",
       "      <td>Dark Phoenix</td>\n",
       "      <td>350000000.0</td>\n",
       "      <td>42762350.0</td>\n",
       "      <td>1.497624e+08</td>\n",
       "      <td>2019</td>\n",
       "      <td>-2.002376e+08</td>\n",
       "      <td>-1.337036</td>\n",
       "      <td>386750000.0</td>\n",
       "      <td>-2.212626e+08</td>\n",
       "    </tr>\n",
       "    <tr>\n",
       "      <th>3</th>\n",
       "      <td>4</td>\n",
       "      <td>May 1, 2015</td>\n",
       "      <td>Avengers: Age of Ultron</td>\n",
       "      <td>330600000.0</td>\n",
       "      <td>459005868.0</td>\n",
       "      <td>1.403014e+09</td>\n",
       "      <td>2015</td>\n",
       "      <td>1.072414e+09</td>\n",
       "      <td>0.764364</td>\n",
       "      <td>411597000.0</td>\n",
       "      <td>1.335155e+09</td>\n",
       "    </tr>\n",
       "    <tr>\n",
       "      <th>4</th>\n",
       "      <td>5</td>\n",
       "      <td>Dec 15, 2017</td>\n",
       "      <td>Star Wars Ep. VIII: The Last Jedi</td>\n",
       "      <td>317000000.0</td>\n",
       "      <td>620181382.0</td>\n",
       "      <td>1.316722e+09</td>\n",
       "      <td>2017</td>\n",
       "      <td>9.997217e+08</td>\n",
       "      <td>0.759251</td>\n",
       "      <td>372475000.0</td>\n",
       "      <td>1.174673e+09</td>\n",
       "    </tr>\n",
       "    <tr>\n",
       "      <th>...</th>\n",
       "      <td>...</td>\n",
       "      <td>...</td>\n",
       "      <td>...</td>\n",
       "      <td>...</td>\n",
       "      <td>...</td>\n",
       "      <td>...</td>\n",
       "      <td>...</td>\n",
       "      <td>...</td>\n",
       "      <td>...</td>\n",
       "      <td>...</td>\n",
       "      <td>...</td>\n",
       "    </tr>\n",
       "    <tr>\n",
       "      <th>5775</th>\n",
       "      <td>76</td>\n",
       "      <td>May 26, 2006</td>\n",
       "      <td>Cavite</td>\n",
       "      <td>7000.0</td>\n",
       "      <td>70071.0</td>\n",
       "      <td>7.164400e+04</td>\n",
       "      <td>2006</td>\n",
       "      <td>6.464400e+04</td>\n",
       "      <td>0.902295</td>\n",
       "      <td>10920.0</td>\n",
       "      <td>1.008446e+05</td>\n",
       "    </tr>\n",
       "    <tr>\n",
       "      <th>5776</th>\n",
       "      <td>77</td>\n",
       "      <td>Dec 31, 2004</td>\n",
       "      <td>The Mongol King</td>\n",
       "      <td>7000.0</td>\n",
       "      <td>900.0</td>\n",
       "      <td>9.000000e+02</td>\n",
       "      <td>2004</td>\n",
       "      <td>-6.100000e+03</td>\n",
       "      <td>-6.777778</td>\n",
       "      <td>11410.0</td>\n",
       "      <td>-9.943000e+03</td>\n",
       "    </tr>\n",
       "    <tr>\n",
       "      <th>5778</th>\n",
       "      <td>79</td>\n",
       "      <td>Apr 2, 1999</td>\n",
       "      <td>Following</td>\n",
       "      <td>6000.0</td>\n",
       "      <td>48482.0</td>\n",
       "      <td>2.404950e+05</td>\n",
       "      <td>1999</td>\n",
       "      <td>2.344950e+05</td>\n",
       "      <td>0.975051</td>\n",
       "      <td>10830.0</td>\n",
       "      <td>4.232635e+05</td>\n",
       "    </tr>\n",
       "    <tr>\n",
       "      <th>5779</th>\n",
       "      <td>80</td>\n",
       "      <td>Jul 13, 2005</td>\n",
       "      <td>Return to the Land of Wonders</td>\n",
       "      <td>5000.0</td>\n",
       "      <td>1338.0</td>\n",
       "      <td>1.338000e+03</td>\n",
       "      <td>2005</td>\n",
       "      <td>-3.662000e+03</td>\n",
       "      <td>-2.736921</td>\n",
       "      <td>7975.0</td>\n",
       "      <td>-5.840890e+03</td>\n",
       "    </tr>\n",
       "    <tr>\n",
       "      <th>5781</th>\n",
       "      <td>82</td>\n",
       "      <td>Aug 5, 2005</td>\n",
       "      <td>My Date With Drew</td>\n",
       "      <td>1100.0</td>\n",
       "      <td>181041.0</td>\n",
       "      <td>1.810410e+05</td>\n",
       "      <td>2005</td>\n",
       "      <td>1.799410e+05</td>\n",
       "      <td>0.993924</td>\n",
       "      <td>1754.5</td>\n",
       "      <td>2.870059e+05</td>\n",
       "    </tr>\n",
       "  </tbody>\n",
       "</table>\n",
       "<p>5234 rows × 11 columns</p>\n",
       "</div>"
      ],
      "text/plain": [
       "      id  release_date                                        movie  \\\n",
       "0      1  Dec 18, 2009                                       Avatar   \n",
       "1      2  May 20, 2011  Pirates of the Caribbean: On Stranger Tides   \n",
       "2      3   Jun 7, 2019                                 Dark Phoenix   \n",
       "3      4   May 1, 2015                      Avengers: Age of Ultron   \n",
       "4      5  Dec 15, 2017            Star Wars Ep. VIII: The Last Jedi   \n",
       "...   ..           ...                                          ...   \n",
       "5775  76  May 26, 2006                                       Cavite   \n",
       "5776  77  Dec 31, 2004                              The Mongol King   \n",
       "5778  79   Apr 2, 1999                                    Following   \n",
       "5779  80  Jul 13, 2005                Return to the Land of Wonders   \n",
       "5781  82   Aug 5, 2005                            My Date With Drew   \n",
       "\n",
       "      production_budget  domestic_gross  worldwide_gross  year        profit  \\\n",
       "0           425000000.0     760507625.0     2.776345e+09  2009  2.351345e+09   \n",
       "1           410600000.0     241063875.0     1.045664e+09  2011  6.350639e+08   \n",
       "2           350000000.0      42762350.0     1.497624e+08  2019 -2.002376e+08   \n",
       "3           330600000.0     459005868.0     1.403014e+09  2015  1.072414e+09   \n",
       "4           317000000.0     620181382.0     1.316722e+09  2017  9.997217e+08   \n",
       "...                 ...             ...              ...   ...           ...   \n",
       "5775             7000.0         70071.0     7.164400e+04  2006  6.464400e+04   \n",
       "5776             7000.0           900.0     9.000000e+02  2004 -6.100000e+03   \n",
       "5778             6000.0         48482.0     2.404950e+05  1999  2.344950e+05   \n",
       "5779             5000.0          1338.0     1.338000e+03  2005 -3.662000e+03   \n",
       "5781             1100.0        181041.0     1.810410e+05  2005  1.799410e+05   \n",
       "\n",
       "      profit_margin  adjusted_production_budget  adjusted_profit  \n",
       "0          0.846921                 618375000.0     3.421207e+09  \n",
       "1          0.607331                 568681000.0     8.795635e+08  \n",
       "2         -1.337036                 386750000.0    -2.212626e+08  \n",
       "3          0.764364                 411597000.0     1.335155e+09  \n",
       "4          0.759251                 372475000.0     1.174673e+09  \n",
       "...             ...                         ...              ...  \n",
       "5775       0.902295                     10920.0     1.008446e+05  \n",
       "5776      -6.777778                     11410.0    -9.943000e+03  \n",
       "5778       0.975051                     10830.0     4.232635e+05  \n",
       "5779      -2.736921                      7975.0    -5.840890e+03  \n",
       "5781       0.993924                      1754.5     2.870059e+05  \n",
       "\n",
       "[5234 rows x 11 columns]"
      ]
     },
     "execution_count": 31,
     "metadata": {},
     "output_type": "execute_result"
    }
   ],
   "source": [
    "# Apply a inflation rate of 3.5% to production_budget and profit\n",
    "tn_budget_df['adjusted_production_budget'] = (\n",
    "    ((( 2022 - tn_budget_df['year']) * 0.035 ) + 1 ) * tn_budget_df['production_budget']\n",
    ")\n",
    "tn_budget_df['adjusted_profit'] = (((( 2022 - tn_budget_df['year']) * 0.035 ) + 1 ) * tn_budget_df['profit'])\n",
    "tn_budget_df"
   ]
  },
  {
   "cell_type": "markdown",
   "id": "4a467b69",
   "metadata": {},
   "source": [
    "## Analysis"
   ]
  },
  {
   "cell_type": "markdown",
   "id": "1f0a4f2c",
   "metadata": {},
   "source": [
    "### We considered that the following questions were the most relevants due to the time constraints\n",
    "\n",
    "- What are the most profitable movies, and how much should you spend?\n",
    "- What are the most common genre?\n",
    "- What is the best time of the year to release a movie?"
   ]
  },
  {
   "cell_type": "markdown",
   "id": "122c0105",
   "metadata": {
    "heading_collapsed": true
   },
   "source": [
    "## What are the most profitable movies and how much should you spend?"
   ]
  },
  {
   "cell_type": "markdown",
   "id": "1e6962ad",
   "metadata": {
    "hidden": true
   },
   "source": [
    "Let's calculate profit as worldwide_gross - production_budget"
   ]
  },
  {
   "cell_type": "code",
   "execution_count": 33,
   "id": "abb8384f",
   "metadata": {
    "hidden": true
   },
   "outputs": [
    {
     "data": {
      "text/html": [
       "<div>\n",
       "<style scoped>\n",
       "    .dataframe tbody tr th:only-of-type {\n",
       "        vertical-align: middle;\n",
       "    }\n",
       "\n",
       "    .dataframe tbody tr th {\n",
       "        vertical-align: top;\n",
       "    }\n",
       "\n",
       "    .dataframe thead th {\n",
       "        text-align: right;\n",
       "    }\n",
       "</style>\n",
       "<table border=\"1\" class=\"dataframe\">\n",
       "  <thead>\n",
       "    <tr style=\"text-align: right;\">\n",
       "      <th></th>\n",
       "      <th>id</th>\n",
       "      <th>release_date</th>\n",
       "      <th>movie</th>\n",
       "      <th>production_budget</th>\n",
       "      <th>domestic_gross</th>\n",
       "      <th>worldwide_gross</th>\n",
       "      <th>year</th>\n",
       "      <th>profit</th>\n",
       "      <th>profit_margin</th>\n",
       "      <th>adjusted_production_budget</th>\n",
       "      <th>adjusted_profit</th>\n",
       "    </tr>\n",
       "  </thead>\n",
       "  <tbody>\n",
       "    <tr>\n",
       "      <th>0</th>\n",
       "      <td>1</td>\n",
       "      <td>Dec 18, 2009</td>\n",
       "      <td>Avatar</td>\n",
       "      <td>425000000.0</td>\n",
       "      <td>760507625.0</td>\n",
       "      <td>2.776345e+09</td>\n",
       "      <td>2009</td>\n",
       "      <td>2.351345e+09</td>\n",
       "      <td>0.846921</td>\n",
       "      <td>618375000.0</td>\n",
       "      <td>3.421207e+09</td>\n",
       "    </tr>\n",
       "    <tr>\n",
       "      <th>1</th>\n",
       "      <td>2</td>\n",
       "      <td>May 20, 2011</td>\n",
       "      <td>Pirates of the Caribbean: On Stranger Tides</td>\n",
       "      <td>410600000.0</td>\n",
       "      <td>241063875.0</td>\n",
       "      <td>1.045664e+09</td>\n",
       "      <td>2011</td>\n",
       "      <td>6.350639e+08</td>\n",
       "      <td>0.607331</td>\n",
       "      <td>568681000.0</td>\n",
       "      <td>8.795635e+08</td>\n",
       "    </tr>\n",
       "    <tr>\n",
       "      <th>3</th>\n",
       "      <td>4</td>\n",
       "      <td>May 1, 2015</td>\n",
       "      <td>Avengers: Age of Ultron</td>\n",
       "      <td>330600000.0</td>\n",
       "      <td>459005868.0</td>\n",
       "      <td>1.403014e+09</td>\n",
       "      <td>2015</td>\n",
       "      <td>1.072414e+09</td>\n",
       "      <td>0.764364</td>\n",
       "      <td>411597000.0</td>\n",
       "      <td>1.335155e+09</td>\n",
       "    </tr>\n",
       "    <tr>\n",
       "      <th>4</th>\n",
       "      <td>5</td>\n",
       "      <td>Dec 15, 2017</td>\n",
       "      <td>Star Wars Ep. VIII: The Last Jedi</td>\n",
       "      <td>317000000.0</td>\n",
       "      <td>620181382.0</td>\n",
       "      <td>1.316722e+09</td>\n",
       "      <td>2017</td>\n",
       "      <td>9.997217e+08</td>\n",
       "      <td>0.759251</td>\n",
       "      <td>372475000.0</td>\n",
       "      <td>1.174673e+09</td>\n",
       "    </tr>\n",
       "    <tr>\n",
       "      <th>5</th>\n",
       "      <td>6</td>\n",
       "      <td>Dec 18, 2015</td>\n",
       "      <td>Star Wars Ep. VII: The Force Awakens</td>\n",
       "      <td>306000000.0</td>\n",
       "      <td>936662225.0</td>\n",
       "      <td>2.053311e+09</td>\n",
       "      <td>2015</td>\n",
       "      <td>1.747311e+09</td>\n",
       "      <td>0.850972</td>\n",
       "      <td>380970000.0</td>\n",
       "      <td>2.175402e+09</td>\n",
       "    </tr>\n",
       "  </tbody>\n",
       "</table>\n",
       "</div>"
      ],
      "text/plain": [
       "   id  release_date                                        movie  \\\n",
       "0   1  Dec 18, 2009                                       Avatar   \n",
       "1   2  May 20, 2011  Pirates of the Caribbean: On Stranger Tides   \n",
       "3   4   May 1, 2015                      Avengers: Age of Ultron   \n",
       "4   5  Dec 15, 2017            Star Wars Ep. VIII: The Last Jedi   \n",
       "5   6  Dec 18, 2015         Star Wars Ep. VII: The Force Awakens   \n",
       "\n",
       "   production_budget  domestic_gross  worldwide_gross  year        profit  \\\n",
       "0        425000000.0     760507625.0     2.776345e+09  2009  2.351345e+09   \n",
       "1        410600000.0     241063875.0     1.045664e+09  2011  6.350639e+08   \n",
       "3        330600000.0     459005868.0     1.403014e+09  2015  1.072414e+09   \n",
       "4        317000000.0     620181382.0     1.316722e+09  2017  9.997217e+08   \n",
       "5        306000000.0     936662225.0     2.053311e+09  2015  1.747311e+09   \n",
       "\n",
       "   profit_margin  adjusted_production_budget  adjusted_profit  \n",
       "0       0.846921                 618375000.0     3.421207e+09  \n",
       "1       0.607331                 568681000.0     8.795635e+08  \n",
       "3       0.764364                 411597000.0     1.335155e+09  \n",
       "4       0.759251                 372475000.0     1.174673e+09  \n",
       "5       0.850972                 380970000.0     2.175402e+09  "
      ]
     },
     "execution_count": 33,
     "metadata": {},
     "output_type": "execute_result"
    }
   ],
   "source": [
    "# We are interested only in the movies that are profitables,\n",
    "# to calcualte `profit` as (`worldwide_profit` - `production_budget`)\n",
    "profitable_movies_df = tn_budget_df[tn_budget_df['profit'] > 0]\n",
    "profitable_movies_df.head()"
   ]
  },
  {
   "cell_type": "code",
   "execution_count": 34,
   "id": "e377e89f",
   "metadata": {
    "hidden": true
   },
   "outputs": [
    {
     "data": {
      "text/html": [
       "<div>\n",
       "<style scoped>\n",
       "    .dataframe tbody tr th:only-of-type {\n",
       "        vertical-align: middle;\n",
       "    }\n",
       "\n",
       "    .dataframe tbody tr th {\n",
       "        vertical-align: top;\n",
       "    }\n",
       "\n",
       "    .dataframe thead th {\n",
       "        text-align: right;\n",
       "    }\n",
       "</style>\n",
       "<table border=\"1\" class=\"dataframe\">\n",
       "  <thead>\n",
       "    <tr style=\"text-align: right;\">\n",
       "      <th></th>\n",
       "      <th>index</th>\n",
       "      <th>id</th>\n",
       "      <th>release_date</th>\n",
       "      <th>movie</th>\n",
       "      <th>production_budget</th>\n",
       "      <th>domestic_gross</th>\n",
       "      <th>worldwide_gross</th>\n",
       "      <th>year</th>\n",
       "      <th>profit</th>\n",
       "      <th>profit_margin</th>\n",
       "      <th>adjusted_production_budget</th>\n",
       "      <th>adjusted_profit</th>\n",
       "    </tr>\n",
       "  </thead>\n",
       "  <tbody>\n",
       "    <tr>\n",
       "      <th>0</th>\n",
       "      <td>42</td>\n",
       "      <td>43</td>\n",
       "      <td>Dec 19, 1997</td>\n",
       "      <td>Titanic</td>\n",
       "      <td>200000000.0</td>\n",
       "      <td>659363944.0</td>\n",
       "      <td>2.208208e+09</td>\n",
       "      <td>1997</td>\n",
       "      <td>2.008208e+09</td>\n",
       "      <td>0.909429</td>\n",
       "      <td>375000000.0</td>\n",
       "      <td>3.765391e+09</td>\n",
       "    </tr>\n",
       "    <tr>\n",
       "      <th>1</th>\n",
       "      <td>0</td>\n",
       "      <td>1</td>\n",
       "      <td>Dec 18, 2009</td>\n",
       "      <td>Avatar</td>\n",
       "      <td>425000000.0</td>\n",
       "      <td>760507625.0</td>\n",
       "      <td>2.776345e+09</td>\n",
       "      <td>2009</td>\n",
       "      <td>2.351345e+09</td>\n",
       "      <td>0.846921</td>\n",
       "      <td>618375000.0</td>\n",
       "      <td>3.421207e+09</td>\n",
       "    </tr>\n",
       "    <tr>\n",
       "      <th>2</th>\n",
       "      <td>5</td>\n",
       "      <td>6</td>\n",
       "      <td>Dec 18, 2015</td>\n",
       "      <td>Star Wars Ep. VII: The Force Awakens</td>\n",
       "      <td>306000000.0</td>\n",
       "      <td>936662225.0</td>\n",
       "      <td>2.053311e+09</td>\n",
       "      <td>2015</td>\n",
       "      <td>1.747311e+09</td>\n",
       "      <td>0.850972</td>\n",
       "      <td>380970000.0</td>\n",
       "      <td>2.175402e+09</td>\n",
       "    </tr>\n",
       "    <tr>\n",
       "      <th>3</th>\n",
       "      <td>3464</td>\n",
       "      <td>65</td>\n",
       "      <td>May 25, 1977</td>\n",
       "      <td>Star Wars Ep. IV: A New Hope</td>\n",
       "      <td>11000000.0</td>\n",
       "      <td>460998007.0</td>\n",
       "      <td>7.865980e+08</td>\n",
       "      <td>1977</td>\n",
       "      <td>7.755980e+08</td>\n",
       "      <td>0.986016</td>\n",
       "      <td>28325000.0</td>\n",
       "      <td>1.997165e+09</td>\n",
       "    </tr>\n",
       "    <tr>\n",
       "      <th>4</th>\n",
       "      <td>6</td>\n",
       "      <td>7</td>\n",
       "      <td>Apr 27, 2018</td>\n",
       "      <td>Avengers: Infinity War</td>\n",
       "      <td>300000000.0</td>\n",
       "      <td>678815482.0</td>\n",
       "      <td>2.048134e+09</td>\n",
       "      <td>2018</td>\n",
       "      <td>1.748134e+09</td>\n",
       "      <td>0.853525</td>\n",
       "      <td>342000000.0</td>\n",
       "      <td>1.992873e+09</td>\n",
       "    </tr>\n",
       "  </tbody>\n",
       "</table>\n",
       "</div>"
      ],
      "text/plain": [
       "   index  id  release_date                                 movie  \\\n",
       "0     42  43  Dec 19, 1997                               Titanic   \n",
       "1      0   1  Dec 18, 2009                                Avatar   \n",
       "2      5   6  Dec 18, 2015  Star Wars Ep. VII: The Force Awakens   \n",
       "3   3464  65  May 25, 1977          Star Wars Ep. IV: A New Hope   \n",
       "4      6   7  Apr 27, 2018                Avengers: Infinity War   \n",
       "\n",
       "   production_budget  domestic_gross  worldwide_gross  year        profit  \\\n",
       "0        200000000.0     659363944.0     2.208208e+09  1997  2.008208e+09   \n",
       "1        425000000.0     760507625.0     2.776345e+09  2009  2.351345e+09   \n",
       "2        306000000.0     936662225.0     2.053311e+09  2015  1.747311e+09   \n",
       "3         11000000.0     460998007.0     7.865980e+08  1977  7.755980e+08   \n",
       "4        300000000.0     678815482.0     2.048134e+09  2018  1.748134e+09   \n",
       "\n",
       "   profit_margin  adjusted_production_budget  adjusted_profit  \n",
       "0       0.909429                 375000000.0     3.765391e+09  \n",
       "1       0.846921                 618375000.0     3.421207e+09  \n",
       "2       0.850972                 380970000.0     2.175402e+09  \n",
       "3       0.986016                  28325000.0     1.997165e+09  \n",
       "4       0.853525                 342000000.0     1.992873e+09  "
      ]
     },
     "execution_count": 34,
     "metadata": {},
     "output_type": "execute_result"
    }
   ],
   "source": [
    "# Sort the dataset by adjusted profit column\n",
    "profitable_ranked_df = profitable_movies_df.sort_values(by=['adjusted_profit'], ascending=False)\n",
    "profitable_ranked_df.reset_index(inplace=True)\n",
    "profitable_ranked_df.head()"
   ]
  },
  {
   "cell_type": "code",
   "execution_count": 35,
   "id": "477fd4e0",
   "metadata": {
    "hidden": true
   },
   "outputs": [
    {
     "data": {
      "image/png": "[encoded data removed]",
      "text/plain": [
       "<Figure size 1008x504 with 1 Axes>"
      ]
     },
     "metadata": {
      "needs_background": "light"
     },
     "output_type": "display_data"
    }
   ],
   "source": [
    "# Plot to take a look to the behavior of adjusted profit vs adjusted production budget\n",
    "ax1 = sns.lmplot(\n",
    "    x='adjusted_production_budget', y='adjusted_profit', data=profitable_ranked_df, height=7, aspect=2)\n",
    "plt.xlabel('Budget Adjusted for Inflation (Millions of Dollars)', fontsize=12)\n",
    "plt.ticklabel_format(axis='x', style='sci', scilimits=(6,6))\n",
    "plt.ylabel('Profit Adjusted for Inflation (Billions of Dollars)', fontsize=12)\n",
    "plt.title('Adjusted Budget vs Adjusted Profit for Profitable Movies', fontsize=14)\n",
    "plt.savefig('budget_vs_profit');"
   ]
  },
  {
   "cell_type": "markdown",
   "id": "2aa601b5",
   "metadata": {
    "hidden": true
   },
   "source": [
    "**This scatter plot is helpful in beginning to understand how much money should be budgeted for a movie. The positive trend line indicates that an increase in the budget will result in an increase in profit.**"
   ]
  },
  {
   "cell_type": "code",
   "execution_count": 37,
   "id": "4df149ed",
   "metadata": {
    "hidden": true
   },
   "outputs": [
    {
     "data": {
      "image/png": "[encoded data removed]",
      "text/plain": [
       "<Figure size 1080x864 with 1 Axes>"
      ]
     },
     "metadata": {
      "needs_background": "light"
     },
     "output_type": "display_data"
    }
   ],
   "source": [
    "# Plot most profitable movies to have an idea of what the budget should be.\n",
    "plt.figure(figsize=(15,12))\n",
    "sns.barplot(x=profitable_ranked_df.loc[0:25, 'movie'], y=profitable_ranked_df.loc[0:25, 'adjusted_profit'], \n",
    "            color='mediumspringgreen', label='Profit', ci=None)\n",
    "sns.barplot(x=profitable_ranked_df.loc[0:25, 'movie'],y=profitable_ranked_df.loc[0:25, 'adjusted_production_budget'], \n",
    "            color='black', label='Budget', ci=None)\n",
    "plt.xlabel('Movies', fontsize=12)\n",
    "plt.title(\"Profits and Budgets for the 25 Most Profitable Movies\", fontsize=14)\n",
    "plt.ylabel('Adjusted Profit (Billions of Dollars)', fontsize=12)\n",
    "plt.xticks(rotation=35, horizontalalignment='right', fontsize=12)\n",
    "plt.legend(fontsize=12)\n",
    "plt.savefig('../images/profit_budget_top_25');"
   ]
  },
  {
   "cell_type": "code",
   "execution_count": 19,
   "id": "58242c12",
   "metadata": {
    "hidden": true,
    "scrolled": true
   },
   "outputs": [
    {
     "data": {
      "text/plain": [
       "count    3.611000e+03\n",
       "mean     5.861323e+07\n",
       "std      6.708001e+07\n",
       "min      1.754500e+03\n",
       "25%      1.235875e+07\n",
       "50%      3.431250e+07\n",
       "75%      7.998500e+07\n",
       "max      6.183750e+08\n",
       "Name: adjusted_production_budget, dtype: float64"
      ]
     },
     "execution_count": 19,
     "metadata": {},
     "output_type": "execute_result"
    }
   ],
   "source": [
    "# describe all dataset\n",
    "profitable_movies_df['adjusted_production_budget'].describe()"
   ]
  },
  {
   "cell_type": "code",
   "execution_count": 20,
   "id": "6fd3a0f7",
   "metadata": {
    "hidden": true
   },
   "outputs": [
    {
     "data": {
      "text/plain": [
       "34312500.0"
      ]
     },
     "execution_count": 20,
     "metadata": {},
     "output_type": "execute_result"
    }
   ],
   "source": [
    "ajusted_production_budget_median = profitable_movies_df['adjusted_production_budget'].median()\n",
    "ajusted_production_budget_median"
   ]
  },
  {
   "cell_type": "code",
   "execution_count": 21,
   "id": "e3c88efa",
   "metadata": {
    "hidden": true
   },
   "outputs": [
    {
     "data": {
      "text/plain": [
       "count    2.300000e+01\n",
       "mean     3.729203e+08\n",
       "std      8.134337e+07\n",
       "min      2.702500e+08\n",
       "25%      3.243750e+08\n",
       "50%      3.637500e+08\n",
       "75%      3.772350e+08\n",
       "max      6.183750e+08\n",
       "Name: adjusted_production_budget, dtype: float64"
      ]
     },
     "execution_count": 21,
     "metadata": {},
     "output_type": "execute_result"
    }
   ],
   "source": [
    "# describe most profitable movies dataset\n",
    "profitable_movies_df.loc[0:24, 'adjusted_production_budget'].describe()"
   ]
  },
  {
   "cell_type": "code",
   "execution_count": 22,
   "id": "32a75ded",
   "metadata": {
    "hidden": true
   },
   "outputs": [
    {
     "data": {
      "text/plain": [
       "363750000.0"
      ]
     },
     "execution_count": 22,
     "metadata": {},
     "output_type": "execute_result"
    }
   ],
   "source": [
    "profitable_movies_median = profitable_movies_df.loc[0:24, 'adjusted_production_budget'].median()\n",
    "profitable_movies_median"
   ]
  },
  {
   "cell_type": "code",
   "execution_count": 23,
   "id": "8c4965c4",
   "metadata": {
    "hidden": true,
    "scrolled": true
   },
   "outputs": [
    {
     "data": {
      "text/plain": [
       "count    3611.000000\n",
       "mean        0.623736\n",
       "std         0.244866\n",
       "min         0.000265\n",
       "25%         0.461530\n",
       "50%         0.675288\n",
       "75%         0.817422\n",
       "max         0.999444\n",
       "Name: profit_margin, dtype: float64"
      ]
     },
     "execution_count": 23,
     "metadata": {},
     "output_type": "execute_result"
    }
   ],
   "source": [
    "# describe all dataset\n",
    "profitable_movies_df['profit_margin'].describe()"
   ]
  },
  {
   "cell_type": "code",
   "execution_count": 24,
   "id": "d2188bff",
   "metadata": {
    "hidden": true
   },
   "outputs": [
    {
     "data": {
      "text/plain": [
       "0.6752879384206055"
      ]
     },
     "execution_count": 24,
     "metadata": {},
     "output_type": "execute_result"
    }
   ],
   "source": [
    "profitable_movies_median = profitable_movies_df['profit_margin'].median()\n",
    "profitable_movies_median"
   ]
  },
  {
   "cell_type": "code",
   "execution_count": 25,
   "id": "1d9bb45f",
   "metadata": {
    "hidden": true
   },
   "outputs": [
    {
     "data": {
      "text/plain": [
       "count    23.000000\n",
       "mean      0.663288\n",
       "std       0.195405\n",
       "min       0.027506\n",
       "25%       0.633137\n",
       "50%       0.732681\n",
       "75%       0.761808\n",
       "max       0.853525\n",
       "Name: profit_margin, dtype: float64"
      ]
     },
     "execution_count": 25,
     "metadata": {},
     "output_type": "execute_result"
    }
   ],
   "source": [
    "# describe most profitable movies\n",
    "profitable_movies_df.loc[0:24, 'profit_margin'].describe()"
   ]
  },
  {
   "cell_type": "code",
   "execution_count": 26,
   "id": "12023328",
   "metadata": {
    "hidden": true
   },
   "outputs": [
    {
     "data": {
      "text/plain": [
       "0.7326814373125027"
      ]
     },
     "execution_count": 26,
     "metadata": {},
     "output_type": "execute_result"
    }
   ],
   "source": [
    "profitable_top25_movies_median = profitable_movies_df.loc[0:24, 'profit_margin'].median()\n",
    "profitable_top25_movies_median"
   ]
  },
  {
   "cell_type": "code",
   "execution_count": 27,
   "id": "90ed68a2",
   "metadata": {
    "hidden": true
   },
   "outputs": [
    {
     "data": {
      "text/plain": [
       "3611"
      ]
     },
     "execution_count": 27,
     "metadata": {},
     "output_type": "execute_result"
    }
   ],
   "source": [
    "len(profitable_ranked_df)"
   ]
  },
  {
   "cell_type": "code",
   "execution_count": 28,
   "id": "64fe20cd",
   "metadata": {
    "hidden": true
   },
   "outputs": [
    {
     "data": {
      "text/plain": [
       "2594"
      ]
     },
     "execution_count": 28,
     "metadata": {},
     "output_type": "execute_result"
    }
   ],
   "source": [
    "len(profitable_ranked_df.loc[profitable_ranked_df['profit_margin'] > 0.5])"
   ]
  },
  {
   "cell_type": "markdown",
   "id": "0355556d",
   "metadata": {
    "hidden": true
   },
   "source": [
    "As we can see the most successful movies have incredible profits and profit margings. Titanic(1997), Avatar, two of the Star Wars saga, and Avengers:Infinity War are the most successful movies in term of profits."
   ]
  },
  {
   "cell_type": "markdown",
   "id": "2a9a3ad6",
   "metadata": {
    "hidden": true
   },
   "source": [
    "What's happening? \n",
    "\n",
    "Let's pick up a valid margin that we would like to see on each movie produced. Of all the 3611 profitable movies (profit > <span>&#36;</span>0) 2594 have a profit margin of more than 50<span>&#37;</span>. Meaning, we can be more aggresive in choosing a threshold for the profit margin. The top 25 movies have a median profit margin of 73.27<span>&#37;</span> with a median production budget of <span>&#36;</span>363.750.000. When looking to all profitable movies the profit margin is of 67.53<span>&#37;</span> and a budget of <span>&#36;</span>34.312.500. We choose the median here to describe the data since the mean will be skewed because the data outliners."
   ]
  },
  {
   "cell_type": "markdown",
   "id": "82f50143",
   "metadata": {
    "hidden": true
   },
   "source": [
    "Let's evaluate the data with a profit margin of 75<span>&#37;</span> or greater and a budget greater than <span>&#36;</span>34.312.500."
   ]
  },
  {
   "cell_type": "code",
   "execution_count": 39,
   "id": "7b8fa88c",
   "metadata": {
    "hidden": true
   },
   "outputs": [
    {
     "name": "stdout",
     "output_type": "stream",
     "text": [
      "<class 'pandas.core.frame.DataFrame'>\n",
      "Int64Index: 499 entries, 0 to 1329\n",
      "Data columns (total 12 columns):\n",
      " #   Column                      Non-Null Count  Dtype  \n",
      "---  ------                      --------------  -----  \n",
      " 0   index                       499 non-null    int64  \n",
      " 1   id                          499 non-null    int64  \n",
      " 2   release_date                499 non-null    object \n",
      " 3   movie                       499 non-null    object \n",
      " 4   production_budget           499 non-null    float64\n",
      " 5   domestic_gross              499 non-null    float64\n",
      " 6   worldwide_gross             499 non-null    float64\n",
      " 7   year                        499 non-null    int64  \n",
      " 8   profit                      499 non-null    float64\n",
      " 9   profit_margin               499 non-null    float64\n",
      " 10  adjusted_production_budget  499 non-null    float64\n",
      " 11  adjusted_profit             499 non-null    float64\n",
      "dtypes: float64(7), int64(3), object(2)\n",
      "memory usage: 50.7+ KB\n"
     ]
    }
   ],
   "source": [
    "hipotesis_df = profitable_ranked_df[(profitable_ranked_df['profit_margin'] > 0.75) & (profitable_ranked_df['adjusted_production_budget'] > 34312500)]\n",
    "hipotesis_df.info()"
   ]
  },
  {
   "cell_type": "markdown",
   "id": "ce9773a9",
   "metadata": {
    "hidden": true
   },
   "source": [
    "We still have 499 movies left upon which we can draw some conclusions"
   ]
  },
  {
   "cell_type": "code",
   "execution_count": 40,
   "id": "6b70d2f1",
   "metadata": {
    "hidden": true
   },
   "outputs": [
    {
     "data": {
      "image/png": "[encoded data removed]",
      "text/plain": [
       "<Figure size 1008x504 with 1 Axes>"
      ]
     },
     "metadata": {
      "needs_background": "light"
     },
     "output_type": "display_data"
    }
   ],
   "source": [
    "ax2 = sns.lmplot(x='adjusted_production_budget', y='profit_margin', data=hipotesis_df, height=7, aspect=2)\n",
    "plt.xlabel('Adjusted Budget (Millions of Dollars)', fontsize=12)\n",
    "plt.ticklabel_format(axis='x', style='sci', scilimits=(6,6))\n",
    "plt.ylabel('Profit Margin', fontsize=12)\n",
    "plt.title('Adjusted Budget vs Profit Margin', fontsize=14)\n",
    "plt.savefig('../images/budget_vs_margin.png');"
   ]
  },
  {
   "cell_type": "code",
   "execution_count": 31,
   "id": "238604e7",
   "metadata": {
    "hidden": true
   },
   "outputs": [
    {
     "name": "stdout",
     "output_type": "stream",
     "text": [
      "median production bugdet 104078951.20701404\n",
      "median profit marging 0.8293540881079223\n"
     ]
    }
   ],
   "source": [
    "print('median production bugdet', hipotesis_df['adjusted_production_budget'].mean())\n",
    "print('median profit marging', hipotesis_df['profit_margin'].mean())"
   ]
  },
  {
   "cell_type": "markdown",
   "id": "ec6ff093",
   "metadata": {
    "hidden": true
   },
   "source": [
    "Using a scatter plot to examine the data. We can see that the data poits are more spreadout when comparing profit margin and production budget. The trend line in this case is negative which caution about spending to much money as we might potentially hurt our profit margin. Looking at the hipotesis data, we have a median production budget of <span>&#36;</span>104.078.951 and a median profit marging of 82.94<span>&#37;</span>.\n",
    "\n",
    "#### Recommendation:\n",
    "\n",
    "Microsoft to make movies with a production budget of <span>&#36;</span>104078951 to obtain profit margins of 82.94<span>&#37;</span>"
   ]
  },
  {
   "cell_type": "markdown",
   "id": "e083197c",
   "metadata": {
    "heading_collapsed": true
   },
   "source": [
    "## What genres are more common?"
   ]
  },
  {
   "cell_type": "code",
   "execution_count": 41,
   "id": "5fe0dced",
   "metadata": {
    "hidden": true
   },
   "outputs": [],
   "source": [
    "import sqlite3"
   ]
  },
  {
   "cell_type": "code",
   "execution_count": 51,
   "id": "49c4e650",
   "metadata": {
    "hidden": true
   },
   "outputs": [],
   "source": [
    "conn = sqlite3.connect('../data/im.db')"
   ]
  },
  {
   "cell_type": "code",
   "execution_count": 52,
   "id": "24cbe3c2",
   "metadata": {
    "hidden": true
   },
   "outputs": [],
   "source": [
    "# Query the database for all table names\n",
    "query = \"SELECT name FROM sqlite_master WHERE type='table';\"\n",
    "tables = pd.read_sql(query, conn)"
   ]
  },
  {
   "cell_type": "code",
   "execution_count": 53,
   "id": "b3255902",
   "metadata": {
    "hidden": true
   },
   "outputs": [
    {
     "name": "stdout",
     "output_type": "stream",
     "text": [
      "            name\n",
      "0   movie_basics\n",
      "1      directors\n",
      "2      known_for\n",
      "3     movie_akas\n",
      "4  movie_ratings\n",
      "5        persons\n",
      "6     principals\n",
      "7        writers\n"
     ]
    }
   ],
   "source": [
    "print(tables)"
   ]
  },
  {
   "cell_type": "code",
   "execution_count": 54,
   "id": "79cb0a99",
   "metadata": {
    "hidden": true
   },
   "outputs": [],
   "source": [
    "# The `im.db` is compouse of several tables,\n",
    "# combining tables `movies` and `ratings`\n",
    "\n",
    "movie_ratings = pd.read_sql(\"\"\"\n",
    "SELECT \n",
    "    `m`.*, `r`.`averagerating`, `r`.`numvotes`\n",
    "FROM `movie_basics` AS `m`\n",
    "INNER JOIN `movie_ratings` AS `r` USING(`movie_id`)\n",
    "WHERE `m`.`genres` IS NOT NULL\n",
    ";\"\"\", conn)"
   ]
  },
  {
   "cell_type": "code",
   "execution_count": 55,
   "id": "619d4e5a",
   "metadata": {
    "hidden": true,
    "scrolled": true
   },
   "outputs": [
    {
     "name": "stdout",
     "output_type": "stream",
     "text": [
      "<class 'pandas.core.frame.DataFrame'>\n",
      "RangeIndex: 73052 entries, 0 to 73051\n",
      "Data columns (total 8 columns):\n",
      " #   Column           Non-Null Count  Dtype  \n",
      "---  ------           --------------  -----  \n",
      " 0   movie_id         73052 non-null  object \n",
      " 1   primary_title    73052 non-null  object \n",
      " 2   original_title   73052 non-null  object \n",
      " 3   start_year       73052 non-null  int64  \n",
      " 4   runtime_minutes  65720 non-null  float64\n",
      " 5   genres           73052 non-null  object \n",
      " 6   averagerating    73052 non-null  float64\n",
      " 7   numvotes         73052 non-null  int64  \n",
      "dtypes: float64(2), int64(2), object(4)\n",
      "memory usage: 4.5+ MB\n"
     ]
    }
   ],
   "source": [
    "movie_ratings.info()"
   ]
  },
  {
   "cell_type": "code",
   "execution_count": 56,
   "id": "ccdc4864",
   "metadata": {
    "hidden": true,
    "scrolled": true
   },
   "outputs": [
    {
     "data": {
      "text/html": [
       "<div>\n",
       "<style scoped>\n",
       "    .dataframe tbody tr th:only-of-type {\n",
       "        vertical-align: middle;\n",
       "    }\n",
       "\n",
       "    .dataframe tbody tr th {\n",
       "        vertical-align: top;\n",
       "    }\n",
       "\n",
       "    .dataframe thead th {\n",
       "        text-align: right;\n",
       "    }\n",
       "</style>\n",
       "<table border=\"1\" class=\"dataframe\">\n",
       "  <thead>\n",
       "    <tr style=\"text-align: right;\">\n",
       "      <th></th>\n",
       "      <th>movie_id</th>\n",
       "      <th>primary_title</th>\n",
       "      <th>original_title</th>\n",
       "      <th>start_year</th>\n",
       "      <th>runtime_minutes</th>\n",
       "      <th>genres</th>\n",
       "      <th>averagerating</th>\n",
       "      <th>numvotes</th>\n",
       "    </tr>\n",
       "  </thead>\n",
       "  <tbody>\n",
       "    <tr>\n",
       "      <th>0</th>\n",
       "      <td>tt0063540</td>\n",
       "      <td>Sunghursh</td>\n",
       "      <td>Sunghursh</td>\n",
       "      <td>2013</td>\n",
       "      <td>175.0</td>\n",
       "      <td>Action,Crime,Drama</td>\n",
       "      <td>7.0</td>\n",
       "      <td>77</td>\n",
       "    </tr>\n",
       "    <tr>\n",
       "      <th>1</th>\n",
       "      <td>tt0066787</td>\n",
       "      <td>One Day Before the Rainy Season</td>\n",
       "      <td>Ashad Ka Ek Din</td>\n",
       "      <td>2019</td>\n",
       "      <td>114.0</td>\n",
       "      <td>Biography,Drama</td>\n",
       "      <td>7.2</td>\n",
       "      <td>43</td>\n",
       "    </tr>\n",
       "    <tr>\n",
       "      <th>2</th>\n",
       "      <td>tt0069049</td>\n",
       "      <td>The Other Side of the Wind</td>\n",
       "      <td>The Other Side of the Wind</td>\n",
       "      <td>2018</td>\n",
       "      <td>122.0</td>\n",
       "      <td>Drama</td>\n",
       "      <td>6.9</td>\n",
       "      <td>4517</td>\n",
       "    </tr>\n",
       "    <tr>\n",
       "      <th>3</th>\n",
       "      <td>tt0069204</td>\n",
       "      <td>Sabse Bada Sukh</td>\n",
       "      <td>Sabse Bada Sukh</td>\n",
       "      <td>2018</td>\n",
       "      <td>NaN</td>\n",
       "      <td>Comedy,Drama</td>\n",
       "      <td>6.1</td>\n",
       "      <td>13</td>\n",
       "    </tr>\n",
       "    <tr>\n",
       "      <th>4</th>\n",
       "      <td>tt0100275</td>\n",
       "      <td>The Wandering Soap Opera</td>\n",
       "      <td>La Telenovela Errante</td>\n",
       "      <td>2017</td>\n",
       "      <td>80.0</td>\n",
       "      <td>Comedy,Drama,Fantasy</td>\n",
       "      <td>6.5</td>\n",
       "      <td>119</td>\n",
       "    </tr>\n",
       "  </tbody>\n",
       "</table>\n",
       "</div>"
      ],
      "text/plain": [
       "    movie_id                    primary_title              original_title  \\\n",
       "0  tt0063540                        Sunghursh                   Sunghursh   \n",
       "1  tt0066787  One Day Before the Rainy Season             Ashad Ka Ek Din   \n",
       "2  tt0069049       The Other Side of the Wind  The Other Side of the Wind   \n",
       "3  tt0069204                  Sabse Bada Sukh             Sabse Bada Sukh   \n",
       "4  tt0100275         The Wandering Soap Opera       La Telenovela Errante   \n",
       "\n",
       "   start_year  runtime_minutes                genres  averagerating  numvotes  \n",
       "0        2013            175.0    Action,Crime,Drama            7.0        77  \n",
       "1        2019            114.0       Biography,Drama            7.2        43  \n",
       "2        2018            122.0                 Drama            6.9      4517  \n",
       "3        2018              NaN          Comedy,Drama            6.1        13  \n",
       "4        2017             80.0  Comedy,Drama,Fantasy            6.5       119  "
      ]
     },
     "execution_count": 56,
     "metadata": {},
     "output_type": "execute_result"
    }
   ],
   "source": [
    "movie_ratings.head()"
   ]
  },
  {
   "cell_type": "code",
   "execution_count": 37,
   "id": "75c8efe8",
   "metadata": {
    "hidden": true
   },
   "outputs": [
    {
     "data": {
      "text/html": [
       "<div>\n",
       "<style scoped>\n",
       "    .dataframe tbody tr th:only-of-type {\n",
       "        vertical-align: middle;\n",
       "    }\n",
       "\n",
       "    .dataframe tbody tr th {\n",
       "        vertical-align: top;\n",
       "    }\n",
       "\n",
       "    .dataframe thead th {\n",
       "        text-align: right;\n",
       "    }\n",
       "</style>\n",
       "<table border=\"1\" class=\"dataframe\">\n",
       "  <thead>\n",
       "    <tr style=\"text-align: right;\">\n",
       "      <th></th>\n",
       "      <th>id</th>\n",
       "      <th>release_date</th>\n",
       "      <th>movie</th>\n",
       "      <th>production_budget</th>\n",
       "      <th>domestic_gross</th>\n",
       "      <th>worldwide_gross</th>\n",
       "      <th>year</th>\n",
       "      <th>profit</th>\n",
       "      <th>profit_margin</th>\n",
       "      <th>adjusted_production_budget</th>\n",
       "      <th>adjusted_profit</th>\n",
       "    </tr>\n",
       "  </thead>\n",
       "  <tbody>\n",
       "    <tr>\n",
       "      <th>0</th>\n",
       "      <td>1</td>\n",
       "      <td>Dec 18, 2009</td>\n",
       "      <td>Avatar</td>\n",
       "      <td>425000000.0</td>\n",
       "      <td>760507625.0</td>\n",
       "      <td>2.776345e+09</td>\n",
       "      <td>2009</td>\n",
       "      <td>2.351345e+09</td>\n",
       "      <td>0.846921</td>\n",
       "      <td>618375000.0</td>\n",
       "      <td>3.421207e+09</td>\n",
       "    </tr>\n",
       "    <tr>\n",
       "      <th>1</th>\n",
       "      <td>2</td>\n",
       "      <td>May 20, 2011</td>\n",
       "      <td>Pirates of the Caribbean: On Stranger Tides</td>\n",
       "      <td>410600000.0</td>\n",
       "      <td>241063875.0</td>\n",
       "      <td>1.045664e+09</td>\n",
       "      <td>2011</td>\n",
       "      <td>6.350639e+08</td>\n",
       "      <td>0.607331</td>\n",
       "      <td>568681000.0</td>\n",
       "      <td>8.795635e+08</td>\n",
       "    </tr>\n",
       "    <tr>\n",
       "      <th>3</th>\n",
       "      <td>4</td>\n",
       "      <td>May 1, 2015</td>\n",
       "      <td>Avengers: Age of Ultron</td>\n",
       "      <td>330600000.0</td>\n",
       "      <td>459005868.0</td>\n",
       "      <td>1.403014e+09</td>\n",
       "      <td>2015</td>\n",
       "      <td>1.072414e+09</td>\n",
       "      <td>0.764364</td>\n",
       "      <td>411597000.0</td>\n",
       "      <td>1.335155e+09</td>\n",
       "    </tr>\n",
       "    <tr>\n",
       "      <th>4</th>\n",
       "      <td>5</td>\n",
       "      <td>Dec 15, 2017</td>\n",
       "      <td>Star Wars Ep. VIII: The Last Jedi</td>\n",
       "      <td>317000000.0</td>\n",
       "      <td>620181382.0</td>\n",
       "      <td>1.316722e+09</td>\n",
       "      <td>2017</td>\n",
       "      <td>9.997217e+08</td>\n",
       "      <td>0.759251</td>\n",
       "      <td>372475000.0</td>\n",
       "      <td>1.174673e+09</td>\n",
       "    </tr>\n",
       "    <tr>\n",
       "      <th>5</th>\n",
       "      <td>6</td>\n",
       "      <td>Dec 18, 2015</td>\n",
       "      <td>Star Wars Ep. VII: The Force Awakens</td>\n",
       "      <td>306000000.0</td>\n",
       "      <td>936662225.0</td>\n",
       "      <td>2.053311e+09</td>\n",
       "      <td>2015</td>\n",
       "      <td>1.747311e+09</td>\n",
       "      <td>0.850972</td>\n",
       "      <td>380970000.0</td>\n",
       "      <td>2.175402e+09</td>\n",
       "    </tr>\n",
       "  </tbody>\n",
       "</table>\n",
       "</div>"
      ],
      "text/plain": [
       "   id  release_date                                        movie  \\\n",
       "0   1  Dec 18, 2009                                       Avatar   \n",
       "1   2  May 20, 2011  Pirates of the Caribbean: On Stranger Tides   \n",
       "3   4   May 1, 2015                      Avengers: Age of Ultron   \n",
       "4   5  Dec 15, 2017            Star Wars Ep. VIII: The Last Jedi   \n",
       "5   6  Dec 18, 2015         Star Wars Ep. VII: The Force Awakens   \n",
       "\n",
       "   production_budget  domestic_gross  worldwide_gross  year        profit  \\\n",
       "0        425000000.0     760507625.0     2.776345e+09  2009  2.351345e+09   \n",
       "1        410600000.0     241063875.0     1.045664e+09  2011  6.350639e+08   \n",
       "3        330600000.0     459005868.0     1.403014e+09  2015  1.072414e+09   \n",
       "4        317000000.0     620181382.0     1.316722e+09  2017  9.997217e+08   \n",
       "5        306000000.0     936662225.0     2.053311e+09  2015  1.747311e+09   \n",
       "\n",
       "   profit_margin  adjusted_production_budget  adjusted_profit  \n",
       "0       0.846921                 618375000.0     3.421207e+09  \n",
       "1       0.607331                 568681000.0     8.795635e+08  \n",
       "3       0.764364                 411597000.0     1.335155e+09  \n",
       "4       0.759251                 372475000.0     1.174673e+09  \n",
       "5       0.850972                 380970000.0     2.175402e+09  "
      ]
     },
     "execution_count": 37,
     "metadata": {},
     "output_type": "execute_result"
    }
   ],
   "source": [
    "# From `What are the most profitable movies and how much you should expend`\n",
    "profitable_movies_df.head()"
   ]
  },
  {
   "cell_type": "code",
   "execution_count": 57,
   "id": "5283b136",
   "metadata": {
    "hidden": true
   },
   "outputs": [],
   "source": [
    "# merge tables 'profitable_movies_df' = movies profit > 0, used in previous section,\n",
    "# with 'movie_ratings' to have a data frame with genres and budgets.\n",
    "ratings_budget_df = profitable_movies_df.merge(movie_ratings, left_on=\"movie\", right_on=\"primary_title\")"
   ]
  },
  {
   "cell_type": "code",
   "execution_count": 58,
   "id": "73bd8c1b",
   "metadata": {
    "hidden": true
   },
   "outputs": [
    {
     "name": "stdout",
     "output_type": "stream",
     "text": [
      "<class 'pandas.core.frame.DataFrame'>\n",
      "Int64Index: 1731 entries, 0 to 1730\n",
      "Data columns (total 19 columns):\n",
      " #   Column                      Non-Null Count  Dtype  \n",
      "---  ------                      --------------  -----  \n",
      " 0   id                          1731 non-null   int64  \n",
      " 1   release_date                1731 non-null   object \n",
      " 2   movie                       1731 non-null   object \n",
      " 3   production_budget           1731 non-null   float64\n",
      " 4   domestic_gross              1731 non-null   float64\n",
      " 5   worldwide_gross             1731 non-null   float64\n",
      " 6   year                        1731 non-null   int64  \n",
      " 7   profit                      1731 non-null   float64\n",
      " 8   profit_margin               1731 non-null   float64\n",
      " 9   adjusted_production_budget  1731 non-null   float64\n",
      " 10  adjusted_profit             1731 non-null   float64\n",
      " 11  movie_id                    1731 non-null   object \n",
      " 12  primary_title               1731 non-null   object \n",
      " 13  original_title              1731 non-null   object \n",
      " 14  start_year                  1731 non-null   int64  \n",
      " 15  runtime_minutes             1669 non-null   float64\n",
      " 16  genres                      1731 non-null   object \n",
      " 17  averagerating               1731 non-null   float64\n",
      " 18  numvotes                    1731 non-null   int64  \n",
      "dtypes: float64(9), int64(4), object(6)\n",
      "memory usage: 270.5+ KB\n"
     ]
    }
   ],
   "source": [
    "ratings_budget_df.info()"
   ]
  },
  {
   "cell_type": "code",
   "execution_count": 59,
   "id": "49b517bd",
   "metadata": {
    "hidden": true
   },
   "outputs": [
    {
     "data": {
      "text/html": [
       "<div>\n",
       "<style scoped>\n",
       "    .dataframe tbody tr th:only-of-type {\n",
       "        vertical-align: middle;\n",
       "    }\n",
       "\n",
       "    .dataframe tbody tr th {\n",
       "        vertical-align: top;\n",
       "    }\n",
       "\n",
       "    .dataframe thead th {\n",
       "        text-align: right;\n",
       "    }\n",
       "</style>\n",
       "<table border=\"1\" class=\"dataframe\">\n",
       "  <thead>\n",
       "    <tr style=\"text-align: right;\">\n",
       "      <th></th>\n",
       "      <th>release_date</th>\n",
       "      <th>movie</th>\n",
       "      <th>production_budget</th>\n",
       "      <th>domestic_gross</th>\n",
       "      <th>worldwide_gross</th>\n",
       "      <th>year</th>\n",
       "      <th>profit</th>\n",
       "      <th>profit_margin</th>\n",
       "      <th>adjusted_production_budget</th>\n",
       "      <th>adjusted_profit</th>\n",
       "      <th>movie_id</th>\n",
       "      <th>primary_title</th>\n",
       "      <th>original_title</th>\n",
       "      <th>start_year</th>\n",
       "      <th>runtime_minutes</th>\n",
       "      <th>genres</th>\n",
       "      <th>averagerating</th>\n",
       "      <th>numvotes</th>\n",
       "    </tr>\n",
       "  </thead>\n",
       "  <tbody>\n",
       "    <tr>\n",
       "      <th>0</th>\n",
       "      <td>Dec 18, 2009</td>\n",
       "      <td>Avatar</td>\n",
       "      <td>425000000.0</td>\n",
       "      <td>760507625.0</td>\n",
       "      <td>2.776345e+09</td>\n",
       "      <td>2009</td>\n",
       "      <td>2.351345e+09</td>\n",
       "      <td>0.846921</td>\n",
       "      <td>618375000.0</td>\n",
       "      <td>3.421207e+09</td>\n",
       "      <td>tt1775309</td>\n",
       "      <td>Avatar</td>\n",
       "      <td>Abatâ</td>\n",
       "      <td>2011</td>\n",
       "      <td>93.0</td>\n",
       "      <td>Horror</td>\n",
       "      <td>6.1</td>\n",
       "      <td>43</td>\n",
       "    </tr>\n",
       "    <tr>\n",
       "      <th>1</th>\n",
       "      <td>May 20, 2011</td>\n",
       "      <td>Pirates of the Caribbean: On Stranger Tides</td>\n",
       "      <td>410600000.0</td>\n",
       "      <td>241063875.0</td>\n",
       "      <td>1.045664e+09</td>\n",
       "      <td>2011</td>\n",
       "      <td>6.350639e+08</td>\n",
       "      <td>0.607331</td>\n",
       "      <td>568681000.0</td>\n",
       "      <td>8.795635e+08</td>\n",
       "      <td>tt1298650</td>\n",
       "      <td>Pirates of the Caribbean: On Stranger Tides</td>\n",
       "      <td>Pirates of the Caribbean: On Stranger Tides</td>\n",
       "      <td>2011</td>\n",
       "      <td>136.0</td>\n",
       "      <td>Action,Adventure,Fantasy</td>\n",
       "      <td>6.6</td>\n",
       "      <td>447624</td>\n",
       "    </tr>\n",
       "    <tr>\n",
       "      <th>2</th>\n",
       "      <td>May 1, 2015</td>\n",
       "      <td>Avengers: Age of Ultron</td>\n",
       "      <td>330600000.0</td>\n",
       "      <td>459005868.0</td>\n",
       "      <td>1.403014e+09</td>\n",
       "      <td>2015</td>\n",
       "      <td>1.072414e+09</td>\n",
       "      <td>0.764364</td>\n",
       "      <td>411597000.0</td>\n",
       "      <td>1.335155e+09</td>\n",
       "      <td>tt2395427</td>\n",
       "      <td>Avengers: Age of Ultron</td>\n",
       "      <td>Avengers: Age of Ultron</td>\n",
       "      <td>2015</td>\n",
       "      <td>141.0</td>\n",
       "      <td>Action,Adventure,Sci-Fi</td>\n",
       "      <td>7.3</td>\n",
       "      <td>665594</td>\n",
       "    </tr>\n",
       "    <tr>\n",
       "      <th>3</th>\n",
       "      <td>Apr 27, 2018</td>\n",
       "      <td>Avengers: Infinity War</td>\n",
       "      <td>300000000.0</td>\n",
       "      <td>678815482.0</td>\n",
       "      <td>2.048134e+09</td>\n",
       "      <td>2018</td>\n",
       "      <td>1.748134e+09</td>\n",
       "      <td>0.853525</td>\n",
       "      <td>342000000.0</td>\n",
       "      <td>1.992873e+09</td>\n",
       "      <td>tt4154756</td>\n",
       "      <td>Avengers: Infinity War</td>\n",
       "      <td>Avengers: Infinity War</td>\n",
       "      <td>2018</td>\n",
       "      <td>149.0</td>\n",
       "      <td>Action,Adventure,Sci-Fi</td>\n",
       "      <td>8.5</td>\n",
       "      <td>670926</td>\n",
       "    </tr>\n",
       "    <tr>\n",
       "      <th>4</th>\n",
       "      <td>Nov 17, 2017</td>\n",
       "      <td>Justice League</td>\n",
       "      <td>300000000.0</td>\n",
       "      <td>229024295.0</td>\n",
       "      <td>6.559452e+08</td>\n",
       "      <td>2017</td>\n",
       "      <td>3.559452e+08</td>\n",
       "      <td>0.542645</td>\n",
       "      <td>352500000.0</td>\n",
       "      <td>4.182356e+08</td>\n",
       "      <td>tt0974015</td>\n",
       "      <td>Justice League</td>\n",
       "      <td>Justice League</td>\n",
       "      <td>2017</td>\n",
       "      <td>120.0</td>\n",
       "      <td>Action,Adventure,Fantasy</td>\n",
       "      <td>6.5</td>\n",
       "      <td>329135</td>\n",
       "    </tr>\n",
       "    <tr>\n",
       "      <th>...</th>\n",
       "      <td>...</td>\n",
       "      <td>...</td>\n",
       "      <td>...</td>\n",
       "      <td>...</td>\n",
       "      <td>...</td>\n",
       "      <td>...</td>\n",
       "      <td>...</td>\n",
       "      <td>...</td>\n",
       "      <td>...</td>\n",
       "      <td>...</td>\n",
       "      <td>...</td>\n",
       "      <td>...</td>\n",
       "      <td>...</td>\n",
       "      <td>...</td>\n",
       "      <td>...</td>\n",
       "      <td>...</td>\n",
       "      <td>...</td>\n",
       "      <td>...</td>\n",
       "    </tr>\n",
       "    <tr>\n",
       "      <th>1726</th>\n",
       "      <td>Nov 12, 2010</td>\n",
       "      <td>Tiny Furniture</td>\n",
       "      <td>50000.0</td>\n",
       "      <td>391674.0</td>\n",
       "      <td>4.241490e+05</td>\n",
       "      <td>2010</td>\n",
       "      <td>3.741490e+05</td>\n",
       "      <td>0.882117</td>\n",
       "      <td>71000.0</td>\n",
       "      <td>5.312916e+05</td>\n",
       "      <td>tt1570989</td>\n",
       "      <td>Tiny Furniture</td>\n",
       "      <td>Tiny Furniture</td>\n",
       "      <td>2010</td>\n",
       "      <td>98.0</td>\n",
       "      <td>Comedy,Drama,Romance</td>\n",
       "      <td>6.2</td>\n",
       "      <td>13397</td>\n",
       "    </tr>\n",
       "    <tr>\n",
       "      <th>1727</th>\n",
       "      <td>Feb 22, 2008</td>\n",
       "      <td>The Signal</td>\n",
       "      <td>50000.0</td>\n",
       "      <td>251150.0</td>\n",
       "      <td>4.062990e+05</td>\n",
       "      <td>2008</td>\n",
       "      <td>3.562990e+05</td>\n",
       "      <td>0.876938</td>\n",
       "      <td>74500.0</td>\n",
       "      <td>5.308855e+05</td>\n",
       "      <td>tt2910814</td>\n",
       "      <td>The Signal</td>\n",
       "      <td>The Signal</td>\n",
       "      <td>2014</td>\n",
       "      <td>97.0</td>\n",
       "      <td>Drama,Mystery,Sci-Fi</td>\n",
       "      <td>6.1</td>\n",
       "      <td>58407</td>\n",
       "    </tr>\n",
       "    <tr>\n",
       "      <th>1728</th>\n",
       "      <td>Mar 18, 2016</td>\n",
       "      <td>Krisha</td>\n",
       "      <td>30000.0</td>\n",
       "      <td>144822.0</td>\n",
       "      <td>1.448220e+05</td>\n",
       "      <td>2016</td>\n",
       "      <td>1.148220e+05</td>\n",
       "      <td>0.792849</td>\n",
       "      <td>36300.0</td>\n",
       "      <td>1.389346e+05</td>\n",
       "      <td>tt4266638</td>\n",
       "      <td>Krisha</td>\n",
       "      <td>Krisha</td>\n",
       "      <td>2015</td>\n",
       "      <td>83.0</td>\n",
       "      <td>Drama</td>\n",
       "      <td>7.2</td>\n",
       "      <td>5917</td>\n",
       "    </tr>\n",
       "    <tr>\n",
       "      <th>1729</th>\n",
       "      <td>Jan 14, 2000</td>\n",
       "      <td>The Terrorist</td>\n",
       "      <td>25000.0</td>\n",
       "      <td>195043.0</td>\n",
       "      <td>1.950430e+05</td>\n",
       "      <td>2000</td>\n",
       "      <td>1.700430e+05</td>\n",
       "      <td>0.871823</td>\n",
       "      <td>44250.0</td>\n",
       "      <td>3.009761e+05</td>\n",
       "      <td>tt9248762</td>\n",
       "      <td>The Terrorist</td>\n",
       "      <td>The Terrorist</td>\n",
       "      <td>2018</td>\n",
       "      <td>NaN</td>\n",
       "      <td>Thriller</td>\n",
       "      <td>6.0</td>\n",
       "      <td>6</td>\n",
       "    </tr>\n",
       "    <tr>\n",
       "      <th>1730</th>\n",
       "      <td>Jul 6, 2001</td>\n",
       "      <td>Cure</td>\n",
       "      <td>10000.0</td>\n",
       "      <td>94596.0</td>\n",
       "      <td>9.459600e+04</td>\n",
       "      <td>2001</td>\n",
       "      <td>8.459600e+04</td>\n",
       "      <td>0.894287</td>\n",
       "      <td>17350.0</td>\n",
       "      <td>1.467741e+05</td>\n",
       "      <td>tt1872026</td>\n",
       "      <td>Cure</td>\n",
       "      <td>Cure</td>\n",
       "      <td>2011</td>\n",
       "      <td>93.0</td>\n",
       "      <td>Drama</td>\n",
       "      <td>4.9</td>\n",
       "      <td>11</td>\n",
       "    </tr>\n",
       "  </tbody>\n",
       "</table>\n",
       "<p>1731 rows × 18 columns</p>\n",
       "</div>"
      ],
      "text/plain": [
       "      release_date                                        movie  \\\n",
       "0     Dec 18, 2009                                       Avatar   \n",
       "1     May 20, 2011  Pirates of the Caribbean: On Stranger Tides   \n",
       "2      May 1, 2015                      Avengers: Age of Ultron   \n",
       "3     Apr 27, 2018                       Avengers: Infinity War   \n",
       "4     Nov 17, 2017                               Justice League   \n",
       "...            ...                                          ...   \n",
       "1726  Nov 12, 2010                               Tiny Furniture   \n",
       "1727  Feb 22, 2008                                   The Signal   \n",
       "1728  Mar 18, 2016                                       Krisha   \n",
       "1729  Jan 14, 2000                                The Terrorist   \n",
       "1730   Jul 6, 2001                                         Cure   \n",
       "\n",
       "      production_budget  domestic_gross  worldwide_gross  year        profit  \\\n",
       "0           425000000.0     760507625.0     2.776345e+09  2009  2.351345e+09   \n",
       "1           410600000.0     241063875.0     1.045664e+09  2011  6.350639e+08   \n",
       "2           330600000.0     459005868.0     1.403014e+09  2015  1.072414e+09   \n",
       "3           300000000.0     678815482.0     2.048134e+09  2018  1.748134e+09   \n",
       "4           300000000.0     229024295.0     6.559452e+08  2017  3.559452e+08   \n",
       "...                 ...             ...              ...   ...           ...   \n",
       "1726            50000.0        391674.0     4.241490e+05  2010  3.741490e+05   \n",
       "1727            50000.0        251150.0     4.062990e+05  2008  3.562990e+05   \n",
       "1728            30000.0        144822.0     1.448220e+05  2016  1.148220e+05   \n",
       "1729            25000.0        195043.0     1.950430e+05  2000  1.700430e+05   \n",
       "1730            10000.0         94596.0     9.459600e+04  2001  8.459600e+04   \n",
       "\n",
       "      profit_margin  adjusted_production_budget  adjusted_profit   movie_id  \\\n",
       "0          0.846921                 618375000.0     3.421207e+09  tt1775309   \n",
       "1          0.607331                 568681000.0     8.795635e+08  tt1298650   \n",
       "2          0.764364                 411597000.0     1.335155e+09  tt2395427   \n",
       "3          0.853525                 342000000.0     1.992873e+09  tt4154756   \n",
       "4          0.542645                 352500000.0     4.182356e+08  tt0974015   \n",
       "...             ...                         ...              ...        ...   \n",
       "1726       0.882117                     71000.0     5.312916e+05  tt1570989   \n",
       "1727       0.876938                     74500.0     5.308855e+05  tt2910814   \n",
       "1728       0.792849                     36300.0     1.389346e+05  tt4266638   \n",
       "1729       0.871823                     44250.0     3.009761e+05  tt9248762   \n",
       "1730       0.894287                     17350.0     1.467741e+05  tt1872026   \n",
       "\n",
       "                                    primary_title  \\\n",
       "0                                          Avatar   \n",
       "1     Pirates of the Caribbean: On Stranger Tides   \n",
       "2                         Avengers: Age of Ultron   \n",
       "3                          Avengers: Infinity War   \n",
       "4                                  Justice League   \n",
       "...                                           ...   \n",
       "1726                               Tiny Furniture   \n",
       "1727                                   The Signal   \n",
       "1728                                       Krisha   \n",
       "1729                                The Terrorist   \n",
       "1730                                         Cure   \n",
       "\n",
       "                                   original_title  start_year  \\\n",
       "0                                           Abatâ        2011   \n",
       "1     Pirates of the Caribbean: On Stranger Tides        2011   \n",
       "2                         Avengers: Age of Ultron        2015   \n",
       "3                          Avengers: Infinity War        2018   \n",
       "4                                  Justice League        2017   \n",
       "...                                           ...         ...   \n",
       "1726                               Tiny Furniture        2010   \n",
       "1727                                   The Signal        2014   \n",
       "1728                                       Krisha        2015   \n",
       "1729                                The Terrorist        2018   \n",
       "1730                                         Cure        2011   \n",
       "\n",
       "      runtime_minutes                    genres  averagerating  numvotes  \n",
       "0                93.0                    Horror            6.1        43  \n",
       "1               136.0  Action,Adventure,Fantasy            6.6    447624  \n",
       "2               141.0   Action,Adventure,Sci-Fi            7.3    665594  \n",
       "3               149.0   Action,Adventure,Sci-Fi            8.5    670926  \n",
       "4               120.0  Action,Adventure,Fantasy            6.5    329135  \n",
       "...               ...                       ...            ...       ...  \n",
       "1726             98.0      Comedy,Drama,Romance            6.2     13397  \n",
       "1727             97.0      Drama,Mystery,Sci-Fi            6.1     58407  \n",
       "1728             83.0                     Drama            7.2      5917  \n",
       "1729              NaN                  Thriller            6.0         6  \n",
       "1730             93.0                     Drama            4.9        11  \n",
       "\n",
       "[1731 rows x 18 columns]"
      ]
     },
     "execution_count": 59,
     "metadata": {},
     "output_type": "execute_result"
    }
   ],
   "source": [
    "# Let's drop of the `id` of the new created dataframe\n",
    "ratings_budget_df.drop(['id'], axis=1)"
   ]
  },
  {
   "cell_type": "code",
   "execution_count": 60,
   "id": "b3232f96",
   "metadata": {
    "hidden": true,
    "scrolled": false
   },
   "outputs": [],
   "source": [
    "# Convert `genres` from string to a list, and explode the `genres` column.\n",
    "ratings_budget_df['genres'] = ratings_budget_df['genres'].str.split(',')"
   ]
  },
  {
   "cell_type": "code",
   "execution_count": 61,
   "id": "53e1ac3c",
   "metadata": {
    "hidden": true
   },
   "outputs": [
    {
     "data": {
      "text/html": [
       "<div>\n",
       "<style scoped>\n",
       "    .dataframe tbody tr th:only-of-type {\n",
       "        vertical-align: middle;\n",
       "    }\n",
       "\n",
       "    .dataframe tbody tr th {\n",
       "        vertical-align: top;\n",
       "    }\n",
       "\n",
       "    .dataframe thead th {\n",
       "        text-align: right;\n",
       "    }\n",
       "</style>\n",
       "<table border=\"1\" class=\"dataframe\">\n",
       "  <thead>\n",
       "    <tr style=\"text-align: right;\">\n",
       "      <th></th>\n",
       "      <th>id</th>\n",
       "      <th>release_date</th>\n",
       "      <th>movie</th>\n",
       "      <th>production_budget</th>\n",
       "      <th>domestic_gross</th>\n",
       "      <th>worldwide_gross</th>\n",
       "      <th>year</th>\n",
       "      <th>profit</th>\n",
       "      <th>profit_margin</th>\n",
       "      <th>adjusted_production_budget</th>\n",
       "      <th>adjusted_profit</th>\n",
       "      <th>movie_id</th>\n",
       "      <th>primary_title</th>\n",
       "      <th>original_title</th>\n",
       "      <th>start_year</th>\n",
       "      <th>runtime_minutes</th>\n",
       "      <th>genres</th>\n",
       "      <th>averagerating</th>\n",
       "      <th>numvotes</th>\n",
       "    </tr>\n",
       "  </thead>\n",
       "  <tbody>\n",
       "    <tr>\n",
       "      <th>0</th>\n",
       "      <td>1</td>\n",
       "      <td>Dec 18, 2009</td>\n",
       "      <td>Avatar</td>\n",
       "      <td>425000000.0</td>\n",
       "      <td>760507625.0</td>\n",
       "      <td>2.776345e+09</td>\n",
       "      <td>2009</td>\n",
       "      <td>2.351345e+09</td>\n",
       "      <td>0.846921</td>\n",
       "      <td>618375000.0</td>\n",
       "      <td>3.421207e+09</td>\n",
       "      <td>tt1775309</td>\n",
       "      <td>Avatar</td>\n",
       "      <td>Abatâ</td>\n",
       "      <td>2011</td>\n",
       "      <td>93.0</td>\n",
       "      <td>Horror</td>\n",
       "      <td>6.1</td>\n",
       "      <td>43</td>\n",
       "    </tr>\n",
       "    <tr>\n",
       "      <th>1</th>\n",
       "      <td>2</td>\n",
       "      <td>May 20, 2011</td>\n",
       "      <td>Pirates of the Caribbean: On Stranger Tides</td>\n",
       "      <td>410600000.0</td>\n",
       "      <td>241063875.0</td>\n",
       "      <td>1.045664e+09</td>\n",
       "      <td>2011</td>\n",
       "      <td>6.350639e+08</td>\n",
       "      <td>0.607331</td>\n",
       "      <td>568681000.0</td>\n",
       "      <td>8.795635e+08</td>\n",
       "      <td>tt1298650</td>\n",
       "      <td>Pirates of the Caribbean: On Stranger Tides</td>\n",
       "      <td>Pirates of the Caribbean: On Stranger Tides</td>\n",
       "      <td>2011</td>\n",
       "      <td>136.0</td>\n",
       "      <td>Action</td>\n",
       "      <td>6.6</td>\n",
       "      <td>447624</td>\n",
       "    </tr>\n",
       "    <tr>\n",
       "      <th>1</th>\n",
       "      <td>2</td>\n",
       "      <td>May 20, 2011</td>\n",
       "      <td>Pirates of the Caribbean: On Stranger Tides</td>\n",
       "      <td>410600000.0</td>\n",
       "      <td>241063875.0</td>\n",
       "      <td>1.045664e+09</td>\n",
       "      <td>2011</td>\n",
       "      <td>6.350639e+08</td>\n",
       "      <td>0.607331</td>\n",
       "      <td>568681000.0</td>\n",
       "      <td>8.795635e+08</td>\n",
       "      <td>tt1298650</td>\n",
       "      <td>Pirates of the Caribbean: On Stranger Tides</td>\n",
       "      <td>Pirates of the Caribbean: On Stranger Tides</td>\n",
       "      <td>2011</td>\n",
       "      <td>136.0</td>\n",
       "      <td>Adventure</td>\n",
       "      <td>6.6</td>\n",
       "      <td>447624</td>\n",
       "    </tr>\n",
       "    <tr>\n",
       "      <th>1</th>\n",
       "      <td>2</td>\n",
       "      <td>May 20, 2011</td>\n",
       "      <td>Pirates of the Caribbean: On Stranger Tides</td>\n",
       "      <td>410600000.0</td>\n",
       "      <td>241063875.0</td>\n",
       "      <td>1.045664e+09</td>\n",
       "      <td>2011</td>\n",
       "      <td>6.350639e+08</td>\n",
       "      <td>0.607331</td>\n",
       "      <td>568681000.0</td>\n",
       "      <td>8.795635e+08</td>\n",
       "      <td>tt1298650</td>\n",
       "      <td>Pirates of the Caribbean: On Stranger Tides</td>\n",
       "      <td>Pirates of the Caribbean: On Stranger Tides</td>\n",
       "      <td>2011</td>\n",
       "      <td>136.0</td>\n",
       "      <td>Fantasy</td>\n",
       "      <td>6.6</td>\n",
       "      <td>447624</td>\n",
       "    </tr>\n",
       "    <tr>\n",
       "      <th>2</th>\n",
       "      <td>4</td>\n",
       "      <td>May 1, 2015</td>\n",
       "      <td>Avengers: Age of Ultron</td>\n",
       "      <td>330600000.0</td>\n",
       "      <td>459005868.0</td>\n",
       "      <td>1.403014e+09</td>\n",
       "      <td>2015</td>\n",
       "      <td>1.072414e+09</td>\n",
       "      <td>0.764364</td>\n",
       "      <td>411597000.0</td>\n",
       "      <td>1.335155e+09</td>\n",
       "      <td>tt2395427</td>\n",
       "      <td>Avengers: Age of Ultron</td>\n",
       "      <td>Avengers: Age of Ultron</td>\n",
       "      <td>2015</td>\n",
       "      <td>141.0</td>\n",
       "      <td>Action</td>\n",
       "      <td>7.3</td>\n",
       "      <td>665594</td>\n",
       "    </tr>\n",
       "    <tr>\n",
       "      <th>...</th>\n",
       "      <td>...</td>\n",
       "      <td>...</td>\n",
       "      <td>...</td>\n",
       "      <td>...</td>\n",
       "      <td>...</td>\n",
       "      <td>...</td>\n",
       "      <td>...</td>\n",
       "      <td>...</td>\n",
       "      <td>...</td>\n",
       "      <td>...</td>\n",
       "      <td>...</td>\n",
       "      <td>...</td>\n",
       "      <td>...</td>\n",
       "      <td>...</td>\n",
       "      <td>...</td>\n",
       "      <td>...</td>\n",
       "      <td>...</td>\n",
       "      <td>...</td>\n",
       "      <td>...</td>\n",
       "    </tr>\n",
       "    <tr>\n",
       "      <th>1727</th>\n",
       "      <td>19</td>\n",
       "      <td>Feb 22, 2008</td>\n",
       "      <td>The Signal</td>\n",
       "      <td>50000.0</td>\n",
       "      <td>251150.0</td>\n",
       "      <td>4.062990e+05</td>\n",
       "      <td>2008</td>\n",
       "      <td>3.562990e+05</td>\n",
       "      <td>0.876938</td>\n",
       "      <td>74500.0</td>\n",
       "      <td>5.308855e+05</td>\n",
       "      <td>tt2910814</td>\n",
       "      <td>The Signal</td>\n",
       "      <td>The Signal</td>\n",
       "      <td>2014</td>\n",
       "      <td>97.0</td>\n",
       "      <td>Mystery</td>\n",
       "      <td>6.1</td>\n",
       "      <td>58407</td>\n",
       "    </tr>\n",
       "    <tr>\n",
       "      <th>1727</th>\n",
       "      <td>19</td>\n",
       "      <td>Feb 22, 2008</td>\n",
       "      <td>The Signal</td>\n",
       "      <td>50000.0</td>\n",
       "      <td>251150.0</td>\n",
       "      <td>4.062990e+05</td>\n",
       "      <td>2008</td>\n",
       "      <td>3.562990e+05</td>\n",
       "      <td>0.876938</td>\n",
       "      <td>74500.0</td>\n",
       "      <td>5.308855e+05</td>\n",
       "      <td>tt2910814</td>\n",
       "      <td>The Signal</td>\n",
       "      <td>The Signal</td>\n",
       "      <td>2014</td>\n",
       "      <td>97.0</td>\n",
       "      <td>Sci-Fi</td>\n",
       "      <td>6.1</td>\n",
       "      <td>58407</td>\n",
       "    </tr>\n",
       "    <tr>\n",
       "      <th>1728</th>\n",
       "      <td>38</td>\n",
       "      <td>Mar 18, 2016</td>\n",
       "      <td>Krisha</td>\n",
       "      <td>30000.0</td>\n",
       "      <td>144822.0</td>\n",
       "      <td>1.448220e+05</td>\n",
       "      <td>2016</td>\n",
       "      <td>1.148220e+05</td>\n",
       "      <td>0.792849</td>\n",
       "      <td>36300.0</td>\n",
       "      <td>1.389346e+05</td>\n",
       "      <td>tt4266638</td>\n",
       "      <td>Krisha</td>\n",
       "      <td>Krisha</td>\n",
       "      <td>2015</td>\n",
       "      <td>83.0</td>\n",
       "      <td>Drama</td>\n",
       "      <td>7.2</td>\n",
       "      <td>5917</td>\n",
       "    </tr>\n",
       "    <tr>\n",
       "      <th>1729</th>\n",
       "      <td>48</td>\n",
       "      <td>Jan 14, 2000</td>\n",
       "      <td>The Terrorist</td>\n",
       "      <td>25000.0</td>\n",
       "      <td>195043.0</td>\n",
       "      <td>1.950430e+05</td>\n",
       "      <td>2000</td>\n",
       "      <td>1.700430e+05</td>\n",
       "      <td>0.871823</td>\n",
       "      <td>44250.0</td>\n",
       "      <td>3.009761e+05</td>\n",
       "      <td>tt9248762</td>\n",
       "      <td>The Terrorist</td>\n",
       "      <td>The Terrorist</td>\n",
       "      <td>2018</td>\n",
       "      <td>NaN</td>\n",
       "      <td>Thriller</td>\n",
       "      <td>6.0</td>\n",
       "      <td>6</td>\n",
       "    </tr>\n",
       "    <tr>\n",
       "      <th>1730</th>\n",
       "      <td>68</td>\n",
       "      <td>Jul 6, 2001</td>\n",
       "      <td>Cure</td>\n",
       "      <td>10000.0</td>\n",
       "      <td>94596.0</td>\n",
       "      <td>9.459600e+04</td>\n",
       "      <td>2001</td>\n",
       "      <td>8.459600e+04</td>\n",
       "      <td>0.894287</td>\n",
       "      <td>17350.0</td>\n",
       "      <td>1.467741e+05</td>\n",
       "      <td>tt1872026</td>\n",
       "      <td>Cure</td>\n",
       "      <td>Cure</td>\n",
       "      <td>2011</td>\n",
       "      <td>93.0</td>\n",
       "      <td>Drama</td>\n",
       "      <td>4.9</td>\n",
       "      <td>11</td>\n",
       "    </tr>\n",
       "  </tbody>\n",
       "</table>\n",
       "<p>3993 rows × 19 columns</p>\n",
       "</div>"
      ],
      "text/plain": [
       "      id  release_date                                        movie  \\\n",
       "0      1  Dec 18, 2009                                       Avatar   \n",
       "1      2  May 20, 2011  Pirates of the Caribbean: On Stranger Tides   \n",
       "1      2  May 20, 2011  Pirates of the Caribbean: On Stranger Tides   \n",
       "1      2  May 20, 2011  Pirates of the Caribbean: On Stranger Tides   \n",
       "2      4   May 1, 2015                      Avengers: Age of Ultron   \n",
       "...   ..           ...                                          ...   \n",
       "1727  19  Feb 22, 2008                                   The Signal   \n",
       "1727  19  Feb 22, 2008                                   The Signal   \n",
       "1728  38  Mar 18, 2016                                       Krisha   \n",
       "1729  48  Jan 14, 2000                                The Terrorist   \n",
       "1730  68   Jul 6, 2001                                         Cure   \n",
       "\n",
       "      production_budget  domestic_gross  worldwide_gross  year        profit  \\\n",
       "0           425000000.0     760507625.0     2.776345e+09  2009  2.351345e+09   \n",
       "1           410600000.0     241063875.0     1.045664e+09  2011  6.350639e+08   \n",
       "1           410600000.0     241063875.0     1.045664e+09  2011  6.350639e+08   \n",
       "1           410600000.0     241063875.0     1.045664e+09  2011  6.350639e+08   \n",
       "2           330600000.0     459005868.0     1.403014e+09  2015  1.072414e+09   \n",
       "...                 ...             ...              ...   ...           ...   \n",
       "1727            50000.0        251150.0     4.062990e+05  2008  3.562990e+05   \n",
       "1727            50000.0        251150.0     4.062990e+05  2008  3.562990e+05   \n",
       "1728            30000.0        144822.0     1.448220e+05  2016  1.148220e+05   \n",
       "1729            25000.0        195043.0     1.950430e+05  2000  1.700430e+05   \n",
       "1730            10000.0         94596.0     9.459600e+04  2001  8.459600e+04   \n",
       "\n",
       "      profit_margin  adjusted_production_budget  adjusted_profit   movie_id  \\\n",
       "0          0.846921                 618375000.0     3.421207e+09  tt1775309   \n",
       "1          0.607331                 568681000.0     8.795635e+08  tt1298650   \n",
       "1          0.607331                 568681000.0     8.795635e+08  tt1298650   \n",
       "1          0.607331                 568681000.0     8.795635e+08  tt1298650   \n",
       "2          0.764364                 411597000.0     1.335155e+09  tt2395427   \n",
       "...             ...                         ...              ...        ...   \n",
       "1727       0.876938                     74500.0     5.308855e+05  tt2910814   \n",
       "1727       0.876938                     74500.0     5.308855e+05  tt2910814   \n",
       "1728       0.792849                     36300.0     1.389346e+05  tt4266638   \n",
       "1729       0.871823                     44250.0     3.009761e+05  tt9248762   \n",
       "1730       0.894287                     17350.0     1.467741e+05  tt1872026   \n",
       "\n",
       "                                    primary_title  \\\n",
       "0                                          Avatar   \n",
       "1     Pirates of the Caribbean: On Stranger Tides   \n",
       "1     Pirates of the Caribbean: On Stranger Tides   \n",
       "1     Pirates of the Caribbean: On Stranger Tides   \n",
       "2                         Avengers: Age of Ultron   \n",
       "...                                           ...   \n",
       "1727                                   The Signal   \n",
       "1727                                   The Signal   \n",
       "1728                                       Krisha   \n",
       "1729                                The Terrorist   \n",
       "1730                                         Cure   \n",
       "\n",
       "                                   original_title  start_year  \\\n",
       "0                                           Abatâ        2011   \n",
       "1     Pirates of the Caribbean: On Stranger Tides        2011   \n",
       "1     Pirates of the Caribbean: On Stranger Tides        2011   \n",
       "1     Pirates of the Caribbean: On Stranger Tides        2011   \n",
       "2                         Avengers: Age of Ultron        2015   \n",
       "...                                           ...         ...   \n",
       "1727                                   The Signal        2014   \n",
       "1727                                   The Signal        2014   \n",
       "1728                                       Krisha        2015   \n",
       "1729                                The Terrorist        2018   \n",
       "1730                                         Cure        2011   \n",
       "\n",
       "      runtime_minutes     genres  averagerating  numvotes  \n",
       "0                93.0     Horror            6.1        43  \n",
       "1               136.0     Action            6.6    447624  \n",
       "1               136.0  Adventure            6.6    447624  \n",
       "1               136.0    Fantasy            6.6    447624  \n",
       "2               141.0     Action            7.3    665594  \n",
       "...               ...        ...            ...       ...  \n",
       "1727             97.0    Mystery            6.1     58407  \n",
       "1727             97.0     Sci-Fi            6.1     58407  \n",
       "1728             83.0      Drama            7.2      5917  \n",
       "1729              NaN   Thriller            6.0         6  \n",
       "1730             93.0      Drama            4.9        11  \n",
       "\n",
       "[3993 rows x 19 columns]"
      ]
     },
     "execution_count": 61,
     "metadata": {},
     "output_type": "execute_result"
    }
   ],
   "source": [
    "exploded_ratings_budget_df = ratings_budget_df.explode('genres')\n",
    "exploded_ratings_budget_df"
   ]
  },
  {
   "cell_type": "code",
   "execution_count": 62,
   "id": "98ad7177",
   "metadata": {
    "hidden": true
   },
   "outputs": [],
   "source": [
    "movies_by_genres = exploded_ratings_budget_df.groupby('genres', as_index=False)['primary_title'].count().sort_values(by=['primary_title'], ascending=False)"
   ]
  },
  {
   "cell_type": "code",
   "execution_count": 63,
   "id": "2bc7218e",
   "metadata": {
    "hidden": true
   },
   "outputs": [
    {
     "data": {
      "text/html": [
       "<div>\n",
       "<style scoped>\n",
       "    .dataframe tbody tr th:only-of-type {\n",
       "        vertical-align: middle;\n",
       "    }\n",
       "\n",
       "    .dataframe tbody tr th {\n",
       "        vertical-align: top;\n",
       "    }\n",
       "\n",
       "    .dataframe thead th {\n",
       "        text-align: right;\n",
       "    }\n",
       "</style>\n",
       "<table border=\"1\" class=\"dataframe\">\n",
       "  <thead>\n",
       "    <tr style=\"text-align: right;\">\n",
       "      <th></th>\n",
       "      <th>genres</th>\n",
       "      <th>primary_title</th>\n",
       "    </tr>\n",
       "  </thead>\n",
       "  <tbody>\n",
       "    <tr>\n",
       "      <th>7</th>\n",
       "      <td>Drama</td>\n",
       "      <td>852</td>\n",
       "    </tr>\n",
       "    <tr>\n",
       "      <th>4</th>\n",
       "      <td>Comedy</td>\n",
       "      <td>500</td>\n",
       "    </tr>\n",
       "    <tr>\n",
       "      <th>0</th>\n",
       "      <td>Action</td>\n",
       "      <td>423</td>\n",
       "    </tr>\n",
       "    <tr>\n",
       "      <th>1</th>\n",
       "      <td>Adventure</td>\n",
       "      <td>339</td>\n",
       "    </tr>\n",
       "    <tr>\n",
       "      <th>19</th>\n",
       "      <td>Thriller</td>\n",
       "      <td>289</td>\n",
       "    </tr>\n",
       "    <tr>\n",
       "      <th>16</th>\n",
       "      <td>Romance</td>\n",
       "      <td>203</td>\n",
       "    </tr>\n",
       "    <tr>\n",
       "      <th>11</th>\n",
       "      <td>Horror</td>\n",
       "      <td>203</td>\n",
       "    </tr>\n",
       "    <tr>\n",
       "      <th>5</th>\n",
       "      <td>Crime</td>\n",
       "      <td>198</td>\n",
       "    </tr>\n",
       "    <tr>\n",
       "      <th>14</th>\n",
       "      <td>Mystery</td>\n",
       "      <td>140</td>\n",
       "    </tr>\n",
       "    <tr>\n",
       "      <th>17</th>\n",
       "      <td>Sci-Fi</td>\n",
       "      <td>132</td>\n",
       "    </tr>\n",
       "    <tr>\n",
       "      <th>9</th>\n",
       "      <td>Fantasy</td>\n",
       "      <td>127</td>\n",
       "    </tr>\n",
       "    <tr>\n",
       "      <th>3</th>\n",
       "      <td>Biography</td>\n",
       "      <td>114</td>\n",
       "    </tr>\n",
       "    <tr>\n",
       "      <th>6</th>\n",
       "      <td>Documentary</td>\n",
       "      <td>112</td>\n",
       "    </tr>\n",
       "    <tr>\n",
       "      <th>2</th>\n",
       "      <td>Animation</td>\n",
       "      <td>106</td>\n",
       "    </tr>\n",
       "    <tr>\n",
       "      <th>8</th>\n",
       "      <td>Family</td>\n",
       "      <td>101</td>\n",
       "    </tr>\n",
       "    <tr>\n",
       "      <th>12</th>\n",
       "      <td>Music</td>\n",
       "      <td>45</td>\n",
       "    </tr>\n",
       "    <tr>\n",
       "      <th>10</th>\n",
       "      <td>History</td>\n",
       "      <td>40</td>\n",
       "    </tr>\n",
       "    <tr>\n",
       "      <th>18</th>\n",
       "      <td>Sport</td>\n",
       "      <td>35</td>\n",
       "    </tr>\n",
       "    <tr>\n",
       "      <th>20</th>\n",
       "      <td>War</td>\n",
       "      <td>17</td>\n",
       "    </tr>\n",
       "    <tr>\n",
       "      <th>13</th>\n",
       "      <td>Musical</td>\n",
       "      <td>10</td>\n",
       "    </tr>\n",
       "    <tr>\n",
       "      <th>21</th>\n",
       "      <td>Western</td>\n",
       "      <td>5</td>\n",
       "    </tr>\n",
       "    <tr>\n",
       "      <th>15</th>\n",
       "      <td>News</td>\n",
       "      <td>2</td>\n",
       "    </tr>\n",
       "  </tbody>\n",
       "</table>\n",
       "</div>"
      ],
      "text/plain": [
       "         genres  primary_title\n",
       "7         Drama            852\n",
       "4        Comedy            500\n",
       "0        Action            423\n",
       "1     Adventure            339\n",
       "19     Thriller            289\n",
       "16      Romance            203\n",
       "11       Horror            203\n",
       "5         Crime            198\n",
       "14      Mystery            140\n",
       "17       Sci-Fi            132\n",
       "9       Fantasy            127\n",
       "3     Biography            114\n",
       "6   Documentary            112\n",
       "2     Animation            106\n",
       "8        Family            101\n",
       "12        Music             45\n",
       "10      History             40\n",
       "18        Sport             35\n",
       "20          War             17\n",
       "13      Musical             10\n",
       "21      Western              5\n",
       "15         News              2"
      ]
     },
     "execution_count": 63,
     "metadata": {},
     "output_type": "execute_result"
    }
   ],
   "source": [
    "movies_by_genres"
   ]
  },
  {
   "cell_type": "code",
   "execution_count": 64,
   "id": "a1e1ab8d",
   "metadata": {
    "hidden": true
   },
   "outputs": [
    {
     "data": {
      "image/png": "[encoded data removed]",
      "text/plain": [
       "<Figure size 1008x504 with 1 Axes>"
      ]
     },
     "metadata": {
      "needs_background": "light"
     },
     "output_type": "display_data"
    }
   ],
   "source": [
    "plt.figure(figsize=(14,7))\n",
    "ax3 = sns.barplot(x=movies_by_genres['primary_title'], y=movies_by_genres['genres'], palette='GnBu_d')\n",
    "plt.xlabel('Movie Count', fontsize=12)\n",
    "plt.ylabel('Genres', fontsize=12)\n",
    "plt.title('Movie Count By Genres', fontsize=14)\n",
    "plt.savefig('../images/movie_count_by_genre.png');"
   ]
  },
  {
   "cell_type": "markdown",
   "id": "5dba0c93",
   "metadata": {
    "hidden": true
   },
   "source": [
    "Drama, Comedy, and Action are the dominating factor in the quantity of movies by genre. Does this necessarily mean these are the most profitable genres? In order to determine this we will once again group each genre but this time we are going to take a look at the average net profit for each."
   ]
  },
  {
   "cell_type": "code",
   "execution_count": 46,
   "id": "e2d7fa77",
   "metadata": {
    "hidden": true
   },
   "outputs": [],
   "source": [
    "profit_by_genres = exploded_ratings_budget_df.groupby('genres', as_index=False)[['adjusted_profit', 'profit_margin']].median().sort_values(by='adjusted_profit', ascending=False)"
   ]
  },
  {
   "cell_type": "code",
   "execution_count": 47,
   "id": "e929f076",
   "metadata": {
    "hidden": true
   },
   "outputs": [
    {
     "data": {
      "text/html": [
       "<div>\n",
       "<style scoped>\n",
       "    .dataframe tbody tr th:only-of-type {\n",
       "        vertical-align: middle;\n",
       "    }\n",
       "\n",
       "    .dataframe tbody tr th {\n",
       "        vertical-align: top;\n",
       "    }\n",
       "\n",
       "    .dataframe thead th {\n",
       "        text-align: right;\n",
       "    }\n",
       "</style>\n",
       "<table border=\"1\" class=\"dataframe\">\n",
       "  <thead>\n",
       "    <tr style=\"text-align: right;\">\n",
       "      <th></th>\n",
       "      <th>genres</th>\n",
       "      <th>adjusted_profit</th>\n",
       "      <th>profit_margin</th>\n",
       "    </tr>\n",
       "  </thead>\n",
       "  <tbody>\n",
       "    <tr>\n",
       "      <th>2</th>\n",
       "      <td>Animation</td>\n",
       "      <td>2.717527e+08</td>\n",
       "      <td>0.690364</td>\n",
       "    </tr>\n",
       "    <tr>\n",
       "      <th>1</th>\n",
       "      <td>Adventure</td>\n",
       "      <td>2.096146e+08</td>\n",
       "      <td>0.670905</td>\n",
       "    </tr>\n",
       "    <tr>\n",
       "      <th>17</th>\n",
       "      <td>Sci-Fi</td>\n",
       "      <td>1.856927e+08</td>\n",
       "      <td>0.703653</td>\n",
       "    </tr>\n",
       "    <tr>\n",
       "      <th>13</th>\n",
       "      <td>Musical</td>\n",
       "      <td>1.322214e+08</td>\n",
       "      <td>0.793865</td>\n",
       "    </tr>\n",
       "    <tr>\n",
       "      <th>0</th>\n",
       "      <td>Action</td>\n",
       "      <td>1.293366e+08</td>\n",
       "      <td>0.652401</td>\n",
       "    </tr>\n",
       "    <tr>\n",
       "      <th>9</th>\n",
       "      <td>Fantasy</td>\n",
       "      <td>1.028605e+08</td>\n",
       "      <td>0.623991</td>\n",
       "    </tr>\n",
       "    <tr>\n",
       "      <th>21</th>\n",
       "      <td>Western</td>\n",
       "      <td>8.775544e+07</td>\n",
       "      <td>0.446240</td>\n",
       "    </tr>\n",
       "    <tr>\n",
       "      <th>8</th>\n",
       "      <td>Family</td>\n",
       "      <td>8.323962e+07</td>\n",
       "      <td>0.619474</td>\n",
       "    </tr>\n",
       "    <tr>\n",
       "      <th>20</th>\n",
       "      <td>War</td>\n",
       "      <td>7.506902e+07</td>\n",
       "      <td>0.576016</td>\n",
       "    </tr>\n",
       "    <tr>\n",
       "      <th>4</th>\n",
       "      <td>Comedy</td>\n",
       "      <td>7.133026e+07</td>\n",
       "      <td>0.658712</td>\n",
       "    </tr>\n",
       "    <tr>\n",
       "      <th>14</th>\n",
       "      <td>Mystery</td>\n",
       "      <td>6.830273e+07</td>\n",
       "      <td>0.762053</td>\n",
       "    </tr>\n",
       "    <tr>\n",
       "      <th>19</th>\n",
       "      <td>Thriller</td>\n",
       "      <td>6.563102e+07</td>\n",
       "      <td>0.694336</td>\n",
       "    </tr>\n",
       "    <tr>\n",
       "      <th>11</th>\n",
       "      <td>Horror</td>\n",
       "      <td>5.659950e+07</td>\n",
       "      <td>0.781040</td>\n",
       "    </tr>\n",
       "    <tr>\n",
       "      <th>5</th>\n",
       "      <td>Crime</td>\n",
       "      <td>5.604343e+07</td>\n",
       "      <td>0.612244</td>\n",
       "    </tr>\n",
       "    <tr>\n",
       "      <th>15</th>\n",
       "      <td>News</td>\n",
       "      <td>5.440302e+07</td>\n",
       "      <td>0.594674</td>\n",
       "    </tr>\n",
       "    <tr>\n",
       "      <th>10</th>\n",
       "      <td>History</td>\n",
       "      <td>5.160271e+07</td>\n",
       "      <td>0.573851</td>\n",
       "    </tr>\n",
       "    <tr>\n",
       "      <th>3</th>\n",
       "      <td>Biography</td>\n",
       "      <td>5.098736e+07</td>\n",
       "      <td>0.685939</td>\n",
       "    </tr>\n",
       "    <tr>\n",
       "      <th>12</th>\n",
       "      <td>Music</td>\n",
       "      <td>5.048480e+07</td>\n",
       "      <td>0.666092</td>\n",
       "    </tr>\n",
       "    <tr>\n",
       "      <th>7</th>\n",
       "      <td>Drama</td>\n",
       "      <td>5.046358e+07</td>\n",
       "      <td>0.663211</td>\n",
       "    </tr>\n",
       "    <tr>\n",
       "      <th>16</th>\n",
       "      <td>Romance</td>\n",
       "      <td>4.616861e+07</td>\n",
       "      <td>0.677617</td>\n",
       "    </tr>\n",
       "    <tr>\n",
       "      <th>6</th>\n",
       "      <td>Documentary</td>\n",
       "      <td>4.377606e+07</td>\n",
       "      <td>0.613781</td>\n",
       "    </tr>\n",
       "    <tr>\n",
       "      <th>18</th>\n",
       "      <td>Sport</td>\n",
       "      <td>3.919655e+07</td>\n",
       "      <td>0.580413</td>\n",
       "    </tr>\n",
       "  </tbody>\n",
       "</table>\n",
       "</div>"
      ],
      "text/plain": [
       "         genres  adjusted_profit  profit_margin\n",
       "2     Animation     2.717527e+08       0.690364\n",
       "1     Adventure     2.096146e+08       0.670905\n",
       "17       Sci-Fi     1.856927e+08       0.703653\n",
       "13      Musical     1.322214e+08       0.793865\n",
       "0        Action     1.293366e+08       0.652401\n",
       "9       Fantasy     1.028605e+08       0.623991\n",
       "21      Western     8.775544e+07       0.446240\n",
       "8        Family     8.323962e+07       0.619474\n",
       "20          War     7.506902e+07       0.576016\n",
       "4        Comedy     7.133026e+07       0.658712\n",
       "14      Mystery     6.830273e+07       0.762053\n",
       "19     Thriller     6.563102e+07       0.694336\n",
       "11       Horror     5.659950e+07       0.781040\n",
       "5         Crime     5.604343e+07       0.612244\n",
       "15         News     5.440302e+07       0.594674\n",
       "10      History     5.160271e+07       0.573851\n",
       "3     Biography     5.098736e+07       0.685939\n",
       "12        Music     5.048480e+07       0.666092\n",
       "7         Drama     5.046358e+07       0.663211\n",
       "16      Romance     4.616861e+07       0.677617\n",
       "6   Documentary     4.377606e+07       0.613781\n",
       "18        Sport     3.919655e+07       0.580413"
      ]
     },
     "execution_count": 47,
     "metadata": {},
     "output_type": "execute_result"
    }
   ],
   "source": [
    "profit_by_genres"
   ]
  },
  {
   "cell_type": "code",
   "execution_count": 48,
   "id": "fa06d603",
   "metadata": {
    "hidden": true
   },
   "outputs": [
    {
     "data": {
      "image/png": "[encoded data removed]",
      "text/plain": [
       "<Figure size 1008x504 with 1 Axes>"
      ]
     },
     "metadata": {
      "needs_background": "light"
     },
     "output_type": "display_data"
    }
   ],
   "source": [
    "plt.figure(figsize=(14,7))\n",
    "ax4 = sns.barplot(x=profit_by_genres['adjusted_profit'], y=profit_by_genres['genres'], palette='GnBu_d')\n",
    "plt.xlabel('Net Profit (Hundreds of Millions)', fontsize=12)\n",
    "plt.ylabel('Genres', fontsize=12)\n",
    "plt.title('Net Profit By Genres', fontsize=14)\n",
    "plt.savefig('net_profit_by_genres');"
   ]
  },
  {
   "cell_type": "code",
   "execution_count": 49,
   "id": "06006a76",
   "metadata": {
    "hidden": true
   },
   "outputs": [
    {
     "data": {
      "image/png": "[encoded data removed]",
      "text/plain": [
       "<Figure size 1008x504 with 1 Axes>"
      ]
     },
     "metadata": {
      "needs_background": "light"
     },
     "output_type": "display_data"
    }
   ],
   "source": [
    "plt.figure(figsize=(14,7))\n",
    "ax5 = sns.barplot(x=profit_by_genres['profit_margin'], y=profit_by_genres['genres'], palette='GnBu_d')\n",
    "plt.xlabel('Genres', fontsize=12)\n",
    "plt.ylabel('Profit Margin', fontsize=12)\n",
    "plt.title('Profit Margin By Genres', fontsize=14)\n",
    "plt.xlim(0.3, 0.85)\n",
    "plt.savefig('profit_margin_by_genre');"
   ]
  },
  {
   "cell_type": "markdown",
   "id": "de811dd7",
   "metadata": {
    "hidden": true
   },
   "source": [
    "Even though animation, adventure, and sci-fi are not the common release genres but typically they have the most success in terms of median net profit.\n",
    "We can also see that animation has a desirable profit margin along with musicals, mystery and horror. Note: Musicals is in the range of .8+ profit margin this is based on 10 movies and has to be disgregarded due to the small sample size."
   ]
  },
  {
   "cell_type": "markdown",
   "id": "2a617a47",
   "metadata": {
    "hidden": true
   },
   "source": [
    "Lastly, of what percentage of the total net profit from all genres does each genre account?"
   ]
  },
  {
   "cell_type": "code",
   "execution_count": 50,
   "id": "f665375a",
   "metadata": {
    "hidden": true
   },
   "outputs": [],
   "source": [
    "percentage_by_genres = exploded_ratings_budget_df.groupby(['genres'], as_index=False)['adjusted_profit'].sum().sort_values(by='adjusted_profit', ascending=False)"
   ]
  },
  {
   "cell_type": "code",
   "execution_count": 51,
   "id": "6bb72c86",
   "metadata": {
    "hidden": true
   },
   "outputs": [
    {
     "data": {
      "text/html": [
       "<div>\n",
       "<style scoped>\n",
       "    .dataframe tbody tr th:only-of-type {\n",
       "        vertical-align: middle;\n",
       "    }\n",
       "\n",
       "    .dataframe tbody tr th {\n",
       "        vertical-align: top;\n",
       "    }\n",
       "\n",
       "    .dataframe thead th {\n",
       "        text-align: right;\n",
       "    }\n",
       "</style>\n",
       "<table border=\"1\" class=\"dataframe\">\n",
       "  <thead>\n",
       "    <tr style=\"text-align: right;\">\n",
       "      <th></th>\n",
       "      <th>genres</th>\n",
       "      <th>adjusted_profit</th>\n",
       "      <th>total_of_net_profit</th>\n",
       "    </tr>\n",
       "  </thead>\n",
       "  <tbody>\n",
       "    <tr>\n",
       "      <th>1</th>\n",
       "      <td>Adventure</td>\n",
       "      <td>1.235026e+11</td>\n",
       "      <td>17.59</td>\n",
       "    </tr>\n",
       "    <tr>\n",
       "      <th>0</th>\n",
       "      <td>Action</td>\n",
       "      <td>1.064582e+11</td>\n",
       "      <td>15.16</td>\n",
       "    </tr>\n",
       "    <tr>\n",
       "      <th>7</th>\n",
       "      <td>Drama</td>\n",
       "      <td>8.590892e+10</td>\n",
       "      <td>12.24</td>\n",
       "    </tr>\n",
       "    <tr>\n",
       "      <th>4</th>\n",
       "      <td>Comedy</td>\n",
       "      <td>7.552482e+10</td>\n",
       "      <td>10.76</td>\n",
       "    </tr>\n",
       "    <tr>\n",
       "      <th>17</th>\n",
       "      <td>Sci-Fi</td>\n",
       "      <td>4.649600e+10</td>\n",
       "      <td>6.62</td>\n",
       "    </tr>\n",
       "    <tr>\n",
       "      <th>2</th>\n",
       "      <td>Animation</td>\n",
       "      <td>3.948307e+10</td>\n",
       "      <td>5.62</td>\n",
       "    </tr>\n",
       "    <tr>\n",
       "      <th>19</th>\n",
       "      <td>Thriller</td>\n",
       "      <td>3.852978e+10</td>\n",
       "      <td>5.49</td>\n",
       "    </tr>\n",
       "    <tr>\n",
       "      <th>9</th>\n",
       "      <td>Fantasy</td>\n",
       "      <td>3.645537e+10</td>\n",
       "      <td>5.19</td>\n",
       "    </tr>\n",
       "    <tr>\n",
       "      <th>11</th>\n",
       "      <td>Horror</td>\n",
       "      <td>2.375814e+10</td>\n",
       "      <td>3.38</td>\n",
       "    </tr>\n",
       "    <tr>\n",
       "      <th>8</th>\n",
       "      <td>Family</td>\n",
       "      <td>2.318468e+10</td>\n",
       "      <td>3.30</td>\n",
       "    </tr>\n",
       "    <tr>\n",
       "      <th>5</th>\n",
       "      <td>Crime</td>\n",
       "      <td>2.108888e+10</td>\n",
       "      <td>3.00</td>\n",
       "    </tr>\n",
       "    <tr>\n",
       "      <th>16</th>\n",
       "      <td>Romance</td>\n",
       "      <td>2.048392e+10</td>\n",
       "      <td>2.92</td>\n",
       "    </tr>\n",
       "    <tr>\n",
       "      <th>14</th>\n",
       "      <td>Mystery</td>\n",
       "      <td>1.586342e+10</td>\n",
       "      <td>2.26</td>\n",
       "    </tr>\n",
       "    <tr>\n",
       "      <th>3</th>\n",
       "      <td>Biography</td>\n",
       "      <td>1.336628e+10</td>\n",
       "      <td>1.90</td>\n",
       "    </tr>\n",
       "    <tr>\n",
       "      <th>6</th>\n",
       "      <td>Documentary</td>\n",
       "      <td>1.179761e+10</td>\n",
       "      <td>1.68</td>\n",
       "    </tr>\n",
       "    <tr>\n",
       "      <th>18</th>\n",
       "      <td>Sport</td>\n",
       "      <td>4.594397e+09</td>\n",
       "      <td>0.65</td>\n",
       "    </tr>\n",
       "    <tr>\n",
       "      <th>12</th>\n",
       "      <td>Music</td>\n",
       "      <td>4.558480e+09</td>\n",
       "      <td>0.65</td>\n",
       "    </tr>\n",
       "    <tr>\n",
       "      <th>13</th>\n",
       "      <td>Musical</td>\n",
       "      <td>4.446638e+09</td>\n",
       "      <td>0.63</td>\n",
       "    </tr>\n",
       "    <tr>\n",
       "      <th>10</th>\n",
       "      <td>History</td>\n",
       "      <td>4.098310e+09</td>\n",
       "      <td>0.58</td>\n",
       "    </tr>\n",
       "    <tr>\n",
       "      <th>20</th>\n",
       "      <td>War</td>\n",
       "      <td>1.426863e+09</td>\n",
       "      <td>0.20</td>\n",
       "    </tr>\n",
       "    <tr>\n",
       "      <th>21</th>\n",
       "      <td>Western</td>\n",
       "      <td>8.803207e+08</td>\n",
       "      <td>0.13</td>\n",
       "    </tr>\n",
       "    <tr>\n",
       "      <th>15</th>\n",
       "      <td>News</td>\n",
       "      <td>1.088060e+08</td>\n",
       "      <td>0.02</td>\n",
       "    </tr>\n",
       "  </tbody>\n",
       "</table>\n",
       "</div>"
      ],
      "text/plain": [
       "         genres  adjusted_profit  total_of_net_profit\n",
       "1     Adventure     1.235026e+11                17.59\n",
       "0        Action     1.064582e+11                15.16\n",
       "7         Drama     8.590892e+10                12.24\n",
       "4        Comedy     7.552482e+10                10.76\n",
       "17       Sci-Fi     4.649600e+10                 6.62\n",
       "2     Animation     3.948307e+10                 5.62\n",
       "19     Thriller     3.852978e+10                 5.49\n",
       "9       Fantasy     3.645537e+10                 5.19\n",
       "11       Horror     2.375814e+10                 3.38\n",
       "8        Family     2.318468e+10                 3.30\n",
       "5         Crime     2.108888e+10                 3.00\n",
       "16      Romance     2.048392e+10                 2.92\n",
       "14      Mystery     1.586342e+10                 2.26\n",
       "3     Biography     1.336628e+10                 1.90\n",
       "6   Documentary     1.179761e+10                 1.68\n",
       "18        Sport     4.594397e+09                 0.65\n",
       "12        Music     4.558480e+09                 0.65\n",
       "13      Musical     4.446638e+09                 0.63\n",
       "10      History     4.098310e+09                 0.58\n",
       "20          War     1.426863e+09                 0.20\n",
       "21      Western     8.803207e+08                 0.13\n",
       "15         News     1.088060e+08                 0.02"
      ]
     },
     "execution_count": 51,
     "metadata": {},
     "output_type": "execute_result"
    }
   ],
   "source": [
    "percentage_by_genres['total_of_net_profit'] = (percentage_by_genres['adjusted_profit']/percentage_by_genres['adjusted_profit'].sum()*100).round(2)\n",
    "percentage_by_genres"
   ]
  },
  {
   "cell_type": "code",
   "execution_count": 52,
   "id": "3d362584",
   "metadata": {
    "hidden": true
   },
   "outputs": [
    {
     "data": {
      "image/png": "[encoded data removed]",
      "text/plain": [
       "<Figure size 1008x504 with 1 Axes>"
      ]
     },
     "metadata": {
      "needs_background": "light"
     },
     "output_type": "display_data"
    }
   ],
   "source": [
    "plt.figure(figsize=(14,7))\n",
    "ax6 = sns.barplot(x=percentage_by_genres['total_of_net_profit'], y=percentage_by_genres['genres'], palette='GnBu_d')\n",
    "plt.xlabel('Percent Total of Net Profit', fontsize=12)\n",
    "plt.ylabel('Genres', fontsize=12)\n",
    "plt.title('Percent of Net Profit By Genres', fontsize=14)\n",
    "plt.savefig('percentage_of_profit_by_genres');"
   ]
  },
  {
   "cell_type": "markdown",
   "id": "f9a5c1d7",
   "metadata": {
    "hidden": true
   },
   "source": [
    "Adventure, action, comedy and drama make up the lionshare of the overall net profits from all movies. However, from our recent observations we know there are also major opportunities in the animation and sci-fi markets due to lower saturation but high average net profits. We will soon determine which genres are most successful during which months."
   ]
  },
  {
   "cell_type": "markdown",
   "id": "18ba5e33",
   "metadata": {
    "hidden": true
   },
   "source": [
    "#### Recommendation:\n",
    "\n",
    "Microsoft should focus their efforts on the top 6 most profitable movie genres: Adventure, Action, Comedy, Drama, Sci-Fi and Animation. As a material of the recommendation, Microsoft should enter the market for Sci-Fi and Animation movies since there is not much competition in these genres and there is a good opportunity to be profitable."
   ]
  },
  {
   "cell_type": "markdown",
   "id": "60b1680c",
   "metadata": {},
   "source": [
    "## What is the best time of the year to release a movie?"
   ]
  },
  {
   "cell_type": "code",
   "execution_count": 65,
   "id": "67354349",
   "metadata": {},
   "outputs": [
    {
     "name": "stdout",
     "output_type": "stream",
     "text": [
      "<class 'pandas.core.frame.DataFrame'>\n",
      "Int64Index: 3993 entries, 0 to 1730\n",
      "Data columns (total 20 columns):\n",
      " #   Column                      Non-Null Count  Dtype  \n",
      "---  ------                      --------------  -----  \n",
      " 0   id                          3993 non-null   int64  \n",
      " 1   release_date                3993 non-null   object \n",
      " 2   movie                       3993 non-null   object \n",
      " 3   production_budget           3993 non-null   float64\n",
      " 4   domestic_gross              3993 non-null   float64\n",
      " 5   worldwide_gross             3993 non-null   float64\n",
      " 6   year                        3993 non-null   int64  \n",
      " 7   profit                      3993 non-null   float64\n",
      " 8   profit_margin               3993 non-null   float64\n",
      " 9   adjusted_production_budget  3993 non-null   float64\n",
      " 10  adjusted_profit             3993 non-null   float64\n",
      " 11  movie_id                    3993 non-null   object \n",
      " 12  primary_title               3993 non-null   object \n",
      " 13  original_title              3993 non-null   object \n",
      " 14  start_year                  3993 non-null   int64  \n",
      " 15  runtime_minutes             3915 non-null   float64\n",
      " 16  genres                      3993 non-null   object \n",
      " 17  averagerating               3993 non-null   float64\n",
      " 18  numvotes                    3993 non-null   int64  \n",
      " 19  month                       3993 non-null   object \n",
      "dtypes: float64(9), int64(4), object(7)\n",
      "memory usage: 655.1+ KB\n"
     ]
    }
   ],
   "source": [
    "# Add a column with the `month` from the `release_date column`, from the previous dataset\n",
    "exploded_ratings_budget_df['month'] = [x[0:3] for x in exploded_ratings_budget_df['release_date']]\n",
    "exploded_ratings_budget_df.info()"
   ]
  },
  {
   "cell_type": "code",
   "execution_count": 66,
   "id": "2b1eb5e0",
   "metadata": {},
   "outputs": [
    {
     "data": {
      "text/html": [
       "<div>\n",
       "<style scoped>\n",
       "    .dataframe tbody tr th:only-of-type {\n",
       "        vertical-align: middle;\n",
       "    }\n",
       "\n",
       "    .dataframe tbody tr th {\n",
       "        vertical-align: top;\n",
       "    }\n",
       "\n",
       "    .dataframe thead th {\n",
       "        text-align: right;\n",
       "    }\n",
       "</style>\n",
       "<table border=\"1\" class=\"dataframe\">\n",
       "  <thead>\n",
       "    <tr style=\"text-align: right;\">\n",
       "      <th></th>\n",
       "      <th>month</th>\n",
       "      <th>movie</th>\n",
       "    </tr>\n",
       "  </thead>\n",
       "  <tbody>\n",
       "    <tr>\n",
       "      <th>2</th>\n",
       "      <td>Dec</td>\n",
       "      <td>422</td>\n",
       "    </tr>\n",
       "    <tr>\n",
       "      <th>9</th>\n",
       "      <td>Nov</td>\n",
       "      <td>388</td>\n",
       "    </tr>\n",
       "    <tr>\n",
       "      <th>0</th>\n",
       "      <td>Apr</td>\n",
       "      <td>353</td>\n",
       "    </tr>\n",
       "    <tr>\n",
       "      <th>10</th>\n",
       "      <td>Oct</td>\n",
       "      <td>350</td>\n",
       "    </tr>\n",
       "    <tr>\n",
       "      <th>1</th>\n",
       "      <td>Aug</td>\n",
       "      <td>339</td>\n",
       "    </tr>\n",
       "    <tr>\n",
       "      <th>7</th>\n",
       "      <td>Mar</td>\n",
       "      <td>332</td>\n",
       "    </tr>\n",
       "    <tr>\n",
       "      <th>5</th>\n",
       "      <td>Jul</td>\n",
       "      <td>331</td>\n",
       "    </tr>\n",
       "    <tr>\n",
       "      <th>6</th>\n",
       "      <td>Jun</td>\n",
       "      <td>329</td>\n",
       "    </tr>\n",
       "    <tr>\n",
       "      <th>11</th>\n",
       "      <td>Sep</td>\n",
       "      <td>311</td>\n",
       "    </tr>\n",
       "    <tr>\n",
       "      <th>3</th>\n",
       "      <td>Feb</td>\n",
       "      <td>295</td>\n",
       "    </tr>\n",
       "    <tr>\n",
       "      <th>8</th>\n",
       "      <td>May</td>\n",
       "      <td>281</td>\n",
       "    </tr>\n",
       "    <tr>\n",
       "      <th>4</th>\n",
       "      <td>Jan</td>\n",
       "      <td>262</td>\n",
       "    </tr>\n",
       "  </tbody>\n",
       "</table>\n",
       "</div>"
      ],
      "text/plain": [
       "   month  movie\n",
       "2    Dec    422\n",
       "9    Nov    388\n",
       "0    Apr    353\n",
       "10   Oct    350\n",
       "1    Aug    339\n",
       "7    Mar    332\n",
       "5    Jul    331\n",
       "6    Jun    329\n",
       "11   Sep    311\n",
       "3    Feb    295\n",
       "8    May    281\n",
       "4    Jan    262"
      ]
     },
     "execution_count": 66,
     "metadata": {},
     "output_type": "execute_result"
    }
   ],
   "source": [
    "# month where most movies are released\n",
    "movies_by_month = exploded_ratings_budget_df.groupby(['month'], as_index=False)['movie'].count().sort_values(by='movie', ascending=False)\n",
    "movies_by_month"
   ]
  },
  {
   "cell_type": "code",
   "execution_count": 67,
   "id": "18eef85e",
   "metadata": {},
   "outputs": [
    {
     "name": "stdout",
     "output_type": "stream",
     "text": [
      "<class 'pandas.core.frame.DataFrame'>\n",
      "Int64Index: 12 entries, 2 to 4\n",
      "Data columns (total 2 columns):\n",
      " #   Column  Non-Null Count  Dtype \n",
      "---  ------  --------------  ----- \n",
      " 0   month   12 non-null     object\n",
      " 1   movie   12 non-null     int64 \n",
      "dtypes: int64(1), object(1)\n",
      "memory usage: 288.0+ bytes\n"
     ]
    }
   ],
   "source": [
    "movies_by_month.info()"
   ]
  },
  {
   "cell_type": "code",
   "execution_count": 73,
   "id": "e79bc16c",
   "metadata": {},
   "outputs": [
    {
     "data": {
      "image/png": "[encoded data removed]",
      "text/plain": [
       "<Figure size 1008x504 with 1 Axes>"
      ]
     },
     "metadata": {
      "needs_background": "light"
     },
     "output_type": "display_data"
    }
   ],
   "source": [
    "plt.figure(figsize=(14,7))\n",
    "ax7 = sns.barplot(x=movies_by_month['month'], y=movies_by_month['movie'], palette='Greens', order=['Jan', 'Feb', 'Mar', 'Apr', 'May', 'Jun', 'Jul', 'Aug', 'Sep', 'Oct', 'Nov', 'Dec'])\n",
    "plt.xlabel('Month', fontsize=12)\n",
    "plt.ylabel('Count', fontsize=12)\n",
    "plt.title('Count of Movie Release By Month', fontsize=14)\n",
    "plt.savefig('../images/count_movies_by_month.png');"
   ]
  },
  {
   "cell_type": "markdown",
   "id": "d8488e86",
   "metadata": {},
   "source": [
    "As you can see December is the best month where most movies are released having the last quarter of the year the quarter that most movies are released. Does it mean profitability? "
   ]
  },
  {
   "cell_type": "code",
   "execution_count": 69,
   "id": "06f12bcc",
   "metadata": {},
   "outputs": [
    {
     "data": {
      "text/html": [
       "<div>\n",
       "<style scoped>\n",
       "    .dataframe tbody tr th:only-of-type {\n",
       "        vertical-align: middle;\n",
       "    }\n",
       "\n",
       "    .dataframe tbody tr th {\n",
       "        vertical-align: top;\n",
       "    }\n",
       "\n",
       "    .dataframe thead th {\n",
       "        text-align: right;\n",
       "    }\n",
       "</style>\n",
       "<table border=\"1\" class=\"dataframe\">\n",
       "  <thead>\n",
       "    <tr style=\"text-align: right;\">\n",
       "      <th></th>\n",
       "      <th>month</th>\n",
       "      <th>adjusted_profit</th>\n",
       "      <th>profit_margin</th>\n",
       "    </tr>\n",
       "  </thead>\n",
       "  <tbody>\n",
       "    <tr>\n",
       "      <th>5</th>\n",
       "      <td>Jul</td>\n",
       "      <td>1.293366e+08</td>\n",
       "      <td>0.713572</td>\n",
       "    </tr>\n",
       "    <tr>\n",
       "      <th>6</th>\n",
       "      <td>Jun</td>\n",
       "      <td>1.279738e+08</td>\n",
       "      <td>0.689401</td>\n",
       "    </tr>\n",
       "    <tr>\n",
       "      <th>8</th>\n",
       "      <td>May</td>\n",
       "      <td>1.190736e+08</td>\n",
       "      <td>0.658827</td>\n",
       "    </tr>\n",
       "    <tr>\n",
       "      <th>9</th>\n",
       "      <td>Nov</td>\n",
       "      <td>9.907017e+07</td>\n",
       "      <td>0.698381</td>\n",
       "    </tr>\n",
       "    <tr>\n",
       "      <th>2</th>\n",
       "      <td>Dec</td>\n",
       "      <td>9.224606e+07</td>\n",
       "      <td>0.641232</td>\n",
       "    </tr>\n",
       "    <tr>\n",
       "      <th>7</th>\n",
       "      <td>Mar</td>\n",
       "      <td>8.375814e+07</td>\n",
       "      <td>0.665102</td>\n",
       "    </tr>\n",
       "    <tr>\n",
       "      <th>3</th>\n",
       "      <td>Feb</td>\n",
       "      <td>7.650000e+07</td>\n",
       "      <td>0.698495</td>\n",
       "    </tr>\n",
       "    <tr>\n",
       "      <th>4</th>\n",
       "      <td>Jan</td>\n",
       "      <td>7.055537e+07</td>\n",
       "      <td>0.745953</td>\n",
       "    </tr>\n",
       "    <tr>\n",
       "      <th>1</th>\n",
       "      <td>Aug</td>\n",
       "      <td>5.479392e+07</td>\n",
       "      <td>0.580701</td>\n",
       "    </tr>\n",
       "    <tr>\n",
       "      <th>10</th>\n",
       "      <td>Oct</td>\n",
       "      <td>5.354806e+07</td>\n",
       "      <td>0.624832</td>\n",
       "    </tr>\n",
       "    <tr>\n",
       "      <th>11</th>\n",
       "      <td>Sep</td>\n",
       "      <td>4.809678e+07</td>\n",
       "      <td>0.625628</td>\n",
       "    </tr>\n",
       "    <tr>\n",
       "      <th>0</th>\n",
       "      <td>Apr</td>\n",
       "      <td>4.195087e+07</td>\n",
       "      <td>0.647006</td>\n",
       "    </tr>\n",
       "  </tbody>\n",
       "</table>\n",
       "</div>"
      ],
      "text/plain": [
       "   month  adjusted_profit  profit_margin\n",
       "5    Jul     1.293366e+08       0.713572\n",
       "6    Jun     1.279738e+08       0.689401\n",
       "8    May     1.190736e+08       0.658827\n",
       "9    Nov     9.907017e+07       0.698381\n",
       "2    Dec     9.224606e+07       0.641232\n",
       "7    Mar     8.375814e+07       0.665102\n",
       "3    Feb     7.650000e+07       0.698495\n",
       "4    Jan     7.055537e+07       0.745953\n",
       "1    Aug     5.479392e+07       0.580701\n",
       "10   Oct     5.354806e+07       0.624832\n",
       "11   Sep     4.809678e+07       0.625628\n",
       "0    Apr     4.195087e+07       0.647006"
      ]
     },
     "execution_count": 69,
     "metadata": {},
     "output_type": "execute_result"
    }
   ],
   "source": [
    "percentage_by_month = exploded_ratings_budget_df.groupby(['month'], as_index=False)[['adjusted_profit', 'profit_margin']].median().sort_values(by='adjusted_profit', ascending=False)\n",
    "percentage_by_month"
   ]
  },
  {
   "cell_type": "code",
   "execution_count": 71,
   "id": "4b152289",
   "metadata": {},
   "outputs": [
    {
     "data": {
      "image/png": "[encoded data removed]",
      "text/plain": [
       "<Figure size 1008x504 with 1 Axes>"
      ]
     },
     "metadata": {
      "needs_background": "light"
     },
     "output_type": "display_data"
    }
   ],
   "source": [
    "plt.figure(figsize=(14,7))\n",
    "ax8 = sns.barplot(x=percentage_by_month['month'], y=percentage_by_month['adjusted_profit'], palette='Greens', order=['Jan', 'Feb', 'Mar', 'Apr', 'May', 'Jun', 'Jul', 'Aug', 'Sep', 'Oct', 'Nov', 'Dec'])\n",
    "plt.xlabel('Month', fontsize=12)\n",
    "plt.ylabel('Net Profit (Tens of Million)', fontsize=12)\n",
    "plt.title('Net Profit By Release Month', fontsize=14)\n",
    "plt.savefig('../images/profit_by_month.png');"
   ]
  },
  {
   "cell_type": "code",
   "execution_count": 72,
   "id": "0ff98bd4",
   "metadata": {
    "scrolled": true
   },
   "outputs": [
    {
     "data": {
      "image/png": "[encoded data removed]",
      "text/plain": [
       "<Figure size 1008x576 with 1 Axes>"
      ]
     },
     "metadata": {
      "needs_background": "light"
     },
     "output_type": "display_data"
    }
   ],
   "source": [
    "plt.figure(figsize=(14,8))\n",
    "ax9 = sns.barplot(x=percentage_by_month['month'], y=percentage_by_month['profit_margin'], palette='Greens', order=['Jan', 'Feb', 'Mar', 'Apr', 'May', 'Jun', 'Jul', 'Aug', 'Sep', 'Oct', 'Nov', 'Dec'])\n",
    "plt.xlabel('Month', fontsize=12)\n",
    "plt.ylabel('Profit Margin', fontsize=12)\n",
    "plt.title('Profit Margin By Release Month', fontsize=14)\n",
    "plt.ylim(0.3, 0.75)\n",
    "plt.savefig('../images/profit_margin_by_month.png');"
   ]
  },
  {
   "cell_type": "markdown",
   "id": "132b7821",
   "metadata": {},
   "source": [
    "May, June and July are the best months to release a movie and obtain a good profit.\n",
    "Taking about profit margins, January is the best month to release a movie but one more time May, June and July also still good months to release movies. It appears that the beginning of the summer is a good time to release movies."
   ]
  },
  {
   "cell_type": "markdown",
   "id": "fdd7faa0",
   "metadata": {},
   "source": [
    "## Conclusions:"
   ]
  },
  {
   "cell_type": "markdown",
   "id": "48df6ffc",
   "metadata": {},
   "source": [
    "* Starting with a production budget of $104078951 will allow Microsoft to obtain a margin profit of 82.94%\n",
    "* Microsoft should concentrated in the 6 best genres: Adventure, Action, Comedy, Drama, Sci-Fi and Animation. Where Sci-Fi and Animation have less competition.\n",
    "* The best months to release a profitable movie are May, June, and July."
   ]
  }
 ],
 "metadata": {
  "kernelspec": {
   "display_name": "Python 3 (ipykernel)",
   "language": "python",
   "name": "python3"
  },
  "language_info": {
   "codemirror_mode": {
    "name": "ipython",
    "version": 3
   },
   "file_extension": ".py",
   "mimetype": "text/x-python",
   "name": "python",
   "nbconvert_exporter": "python",
   "pygments_lexer": "ipython3",
   "version": "3.9.12"
  },
  "toc": {
   "base_numbering": 1,
   "nav_menu": {},
   "number_sections": true,
   "sideBar": true,
   "skip_h1_title": false,
   "title_cell": "Table of Contents",
   "title_sidebar": "Contents",
   "toc_cell": false,
   "toc_position": {},
   "toc_section_display": true,
   "toc_window_display": false
  },
  "varInspector": {
   "cols": {
    "lenName": 16,
    "lenType": 16,
    "lenVar": 40
   },
   "kernels_config": {
    "python": {
     "delete_cmd_postfix": "",
     "delete_cmd_prefix": "del ",
     "library": "var_list.py",
     "varRefreshCmd": "print(var_dic_list())"
    },
    "r": {
     "delete_cmd_postfix": ") ",
     "delete_cmd_prefix": "rm(",
     "library": "var_list.r",
     "varRefreshCmd": "cat(var_dic_list()) "
    }
   },
   "types_to_exclude": [
    "module",
    "function",
    "builtin_function_or_method",
    "instance",
    "_Feature"
   ],
   "window_display": false
  }
 },
 "nbformat": 4,
 "nbformat_minor": 5
}
